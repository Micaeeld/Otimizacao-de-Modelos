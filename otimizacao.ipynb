{
 "cells": [
  {
   "cell_type": "code",
   "execution_count": 1,
   "metadata": {
    "colab": {
     "base_uri": "https://localhost:8080/",
     "height": 195
    },
    "colab_type": "code",
    "id": "y7ik04NlDZMA",
    "outputId": "3e60f174-f855-49bd-d378-60b6d840638b"
   },
   "outputs": [
    {
     "data": {
      "text/html": [
       "<div>\n",
       "<style scoped>\n",
       "    .dataframe tbody tr th:only-of-type {\n",
       "        vertical-align: middle;\n",
       "    }\n",
       "\n",
       "    .dataframe tbody tr th {\n",
       "        vertical-align: top;\n",
       "    }\n",
       "\n",
       "    .dataframe thead th {\n",
       "        text-align: right;\n",
       "    }\n",
       "</style>\n",
       "<table border=\"1\" class=\"dataframe\">\n",
       "  <thead>\n",
       "    <tr style=\"text-align: right;\">\n",
       "      <th></th>\n",
       "      <th>preco</th>\n",
       "      <th>vendido</th>\n",
       "      <th>idade_do_modelo</th>\n",
       "      <th>km_por_ano</th>\n",
       "    </tr>\n",
       "  </thead>\n",
       "  <tbody>\n",
       "    <tr>\n",
       "      <th>0</th>\n",
       "      <td>30941.02</td>\n",
       "      <td>1</td>\n",
       "      <td>18</td>\n",
       "      <td>35085.22134</td>\n",
       "    </tr>\n",
       "    <tr>\n",
       "      <th>1</th>\n",
       "      <td>40557.96</td>\n",
       "      <td>1</td>\n",
       "      <td>20</td>\n",
       "      <td>12622.05362</td>\n",
       "    </tr>\n",
       "    <tr>\n",
       "      <th>2</th>\n",
       "      <td>89627.50</td>\n",
       "      <td>0</td>\n",
       "      <td>12</td>\n",
       "      <td>11440.79806</td>\n",
       "    </tr>\n",
       "    <tr>\n",
       "      <th>3</th>\n",
       "      <td>95276.14</td>\n",
       "      <td>0</td>\n",
       "      <td>3</td>\n",
       "      <td>43167.32682</td>\n",
       "    </tr>\n",
       "    <tr>\n",
       "      <th>4</th>\n",
       "      <td>117384.68</td>\n",
       "      <td>1</td>\n",
       "      <td>4</td>\n",
       "      <td>12770.11290</td>\n",
       "    </tr>\n",
       "  </tbody>\n",
       "</table>\n",
       "</div>"
      ],
      "text/plain": [
       "       preco  vendido  idade_do_modelo   km_por_ano\n",
       "0   30941.02        1               18  35085.22134\n",
       "1   40557.96        1               20  12622.05362\n",
       "2   89627.50        0               12  11440.79806\n",
       "3   95276.14        0                3  43167.32682\n",
       "4  117384.68        1                4  12770.11290"
      ]
     },
     "execution_count": 1,
     "metadata": {},
     "output_type": "execute_result"
    }
   ],
   "source": [
    "import pandas as pd\n",
    "\n",
    "uri = \"https://gist.githubusercontent.com/guilhermesilveira/e99a526b2e7ccc6c3b70f53db43a87d2/raw/1605fc74aa778066bf2e6695e24d53cf65f2f447/machine-learning-carros-simulacao.csv\"\n",
    "dados = pd.read_csv(uri).drop(columns=[\"Unnamed: 0\"], axis=1)\n",
    "dados.head()"
   ]
  },
  {
   "cell_type": "code",
   "execution_count": 2,
   "metadata": {
    "colab": {
     "base_uri": "https://localhost:8080/",
     "height": 195
    },
    "colab_type": "code",
    "id": "b52E4e1hjegN",
    "outputId": "46e32461-13ce-4b78-d64f-96e0a89576ba"
   },
   "outputs": [
    {
     "data": {
      "text/html": [
       "<div>\n",
       "<style scoped>\n",
       "    .dataframe tbody tr th:only-of-type {\n",
       "        vertical-align: middle;\n",
       "    }\n",
       "\n",
       "    .dataframe tbody tr th {\n",
       "        vertical-align: top;\n",
       "    }\n",
       "\n",
       "    .dataframe thead th {\n",
       "        text-align: right;\n",
       "    }\n",
       "</style>\n",
       "<table border=\"1\" class=\"dataframe\">\n",
       "  <thead>\n",
       "    <tr style=\"text-align: right;\">\n",
       "      <th></th>\n",
       "      <th>preco</th>\n",
       "      <th>vendido</th>\n",
       "      <th>idade_do_modelo</th>\n",
       "      <th>km_por_ano</th>\n",
       "    </tr>\n",
       "  </thead>\n",
       "  <tbody>\n",
       "    <tr>\n",
       "      <th>4999</th>\n",
       "      <td>74023.29</td>\n",
       "      <td>0</td>\n",
       "      <td>12</td>\n",
       "      <td>24812.80412</td>\n",
       "    </tr>\n",
       "    <tr>\n",
       "      <th>5322</th>\n",
       "      <td>84843.49</td>\n",
       "      <td>0</td>\n",
       "      <td>13</td>\n",
       "      <td>23095.63834</td>\n",
       "    </tr>\n",
       "    <tr>\n",
       "      <th>5319</th>\n",
       "      <td>83100.27</td>\n",
       "      <td>0</td>\n",
       "      <td>19</td>\n",
       "      <td>36240.72746</td>\n",
       "    </tr>\n",
       "    <tr>\n",
       "      <th>5316</th>\n",
       "      <td>87932.13</td>\n",
       "      <td>0</td>\n",
       "      <td>16</td>\n",
       "      <td>32249.56426</td>\n",
       "    </tr>\n",
       "    <tr>\n",
       "      <th>5315</th>\n",
       "      <td>77937.01</td>\n",
       "      <td>0</td>\n",
       "      <td>15</td>\n",
       "      <td>28414.50704</td>\n",
       "    </tr>\n",
       "  </tbody>\n",
       "</table>\n",
       "</div>"
      ],
      "text/plain": [
       "         preco  vendido  idade_do_modelo   km_por_ano\n",
       "4999  74023.29        0               12  24812.80412\n",
       "5322  84843.49        0               13  23095.63834\n",
       "5319  83100.27        0               19  36240.72746\n",
       "5316  87932.13        0               16  32249.56426\n",
       "5315  77937.01        0               15  28414.50704"
      ]
     },
     "execution_count": 2,
     "metadata": {},
     "output_type": "execute_result"
    }
   ],
   "source": [
    "# situação horrível de \"azar\" onde as classes estão ordenadas por padrão\n",
    "\n",
    "dados_azar = dados.sort_values(\"vendido\", ascending=True)\n",
    "x_azar = dados_azar[[\"preco\", \"idade_do_modelo\",\"km_por_ano\"]]\n",
    "y_azar = dados_azar[\"vendido\"]\n",
    "dados_azar.head()"
   ]
  },
  {
   "cell_type": "code",
   "execution_count": 3,
   "metadata": {
    "colab": {
     "base_uri": "https://localhost:8080/",
     "height": 34
    },
    "colab_type": "code",
    "id": "ZNT26vFEeYmz",
    "outputId": "5cd367dd-e297-40cc-c81d-e09bbc7bf41f"
   },
   "outputs": [
    {
     "name": "stdout",
     "output_type": "stream",
     "text": [
      "Accuracy com dummy stratified, 10 = [58.00, 58.00]\n"
     ]
    }
   ],
   "source": [
    "from sklearn.model_selection import cross_validate\n",
    "from sklearn.dummy import DummyClassifier\n",
    "import numpy as np\n",
    "\n",
    "SEED = 0\n",
    "np.random.seed(SEED)\n",
    "\n",
    "modelo = DummyClassifier()\n",
    "results = cross_validate(modelo, x_azar, y_azar, cv = 10, return_train_score=False)\n",
    "media = results['test_score'].mean()\n",
    "desvio_padrao = results['test_score'].std()\n",
    "print(\"Accuracy com dummy stratified, 10 = [%.2f, %.2f]\" % ((media - 2 * desvio_padrao)*100, (media + 2 * desvio_padrao) * 100))"
   ]
  },
  {
   "cell_type": "code",
   "execution_count": 4,
   "metadata": {
    "colab": {
     "base_uri": "https://localhost:8080/",
     "height": 34
    },
    "colab_type": "code",
    "id": "73mCcFA_eG_K",
    "outputId": "6f585741-6e82-4e9e-9d6a-d74ed8224503"
   },
   "outputs": [
    {
     "name": "stdout",
     "output_type": "stream",
     "text": [
      "Accuracy com cross validation, 10 = [73.83, 77.73]\n"
     ]
    }
   ],
   "source": [
    "from sklearn.model_selection import cross_validate\n",
    "from sklearn.tree import DecisionTreeClassifier\n",
    "\n",
    "np.random.seed(SEED)\n",
    "\n",
    "modelo = DecisionTreeClassifier(max_depth=2)\n",
    "results = cross_validate(modelo, x_azar, y_azar, cv = 10, return_train_score=False)\n",
    "media = results['test_score'].mean()\n",
    "desvio_padrao = results['test_score'].std()\n",
    "print(\"Accuracy com cross validation, 10 = [%.2f, %.2f]\" % ((media - 2 * desvio_padrao)*100, (media + 2 * desvio_padrao) * 100))"
   ]
  },
  {
   "cell_type": "code",
   "execution_count": 5,
   "metadata": {
    "colab": {
     "base_uri": "https://localhost:8080/",
     "height": 195
    },
    "colab_type": "code",
    "id": "5C8Y6J-PGpYf",
    "outputId": "dcf93fa7-ff87-4bd9-b4aa-a3dfab869f84"
   },
   "outputs": [
    {
     "data": {
      "text/html": [
       "<div>\n",
       "<style scoped>\n",
       "    .dataframe tbody tr th:only-of-type {\n",
       "        vertical-align: middle;\n",
       "    }\n",
       "\n",
       "    .dataframe tbody tr th {\n",
       "        vertical-align: top;\n",
       "    }\n",
       "\n",
       "    .dataframe thead th {\n",
       "        text-align: right;\n",
       "    }\n",
       "</style>\n",
       "<table border=\"1\" class=\"dataframe\">\n",
       "  <thead>\n",
       "    <tr style=\"text-align: right;\">\n",
       "      <th></th>\n",
       "      <th>preco</th>\n",
       "      <th>vendido</th>\n",
       "      <th>idade_do_modelo</th>\n",
       "      <th>km_por_ano</th>\n",
       "      <th>modelo</th>\n",
       "    </tr>\n",
       "  </thead>\n",
       "  <tbody>\n",
       "    <tr>\n",
       "      <th>0</th>\n",
       "      <td>30941.02</td>\n",
       "      <td>1</td>\n",
       "      <td>18</td>\n",
       "      <td>35085.22134</td>\n",
       "      <td>22</td>\n",
       "    </tr>\n",
       "    <tr>\n",
       "      <th>1</th>\n",
       "      <td>40557.96</td>\n",
       "      <td>1</td>\n",
       "      <td>20</td>\n",
       "      <td>12622.05362</td>\n",
       "      <td>20</td>\n",
       "    </tr>\n",
       "    <tr>\n",
       "      <th>2</th>\n",
       "      <td>89627.50</td>\n",
       "      <td>0</td>\n",
       "      <td>12</td>\n",
       "      <td>11440.79806</td>\n",
       "      <td>15</td>\n",
       "    </tr>\n",
       "    <tr>\n",
       "      <th>3</th>\n",
       "      <td>95276.14</td>\n",
       "      <td>0</td>\n",
       "      <td>3</td>\n",
       "      <td>43167.32682</td>\n",
       "      <td>6</td>\n",
       "    </tr>\n",
       "    <tr>\n",
       "      <th>4</th>\n",
       "      <td>117384.68</td>\n",
       "      <td>1</td>\n",
       "      <td>4</td>\n",
       "      <td>12770.11290</td>\n",
       "      <td>7</td>\n",
       "    </tr>\n",
       "  </tbody>\n",
       "</table>\n",
       "</div>"
      ],
      "text/plain": [
       "       preco  vendido  idade_do_modelo   km_por_ano  modelo\n",
       "0   30941.02        1               18  35085.22134      22\n",
       "1   40557.96        1               20  12622.05362      20\n",
       "2   89627.50        0               12  11440.79806      15\n",
       "3   95276.14        0                3  43167.32682       6\n",
       "4  117384.68        1                4  12770.11290       7"
      ]
     },
     "execution_count": 5,
     "metadata": {},
     "output_type": "execute_result"
    }
   ],
   "source": [
    "# gerando dados elatorios de modelo de carro para simulacao de agrupamento ao usar nosso estimador\n",
    "\n",
    "np.random.seed(SEED)\n",
    "dados['modelo'] = dados.idade_do_modelo + np.random.randint(-2, 3, size=10000)\n",
    "dados.modelo = dados.modelo + abs(dados.modelo.min()) + 1\n",
    "dados.head()"
   ]
  },
  {
   "cell_type": "code",
   "execution_count": 6,
   "metadata": {
    "colab": {},
    "colab_type": "code",
    "id": "3hmjt7qPHOZY"
   },
   "outputs": [],
   "source": [
    "def imprime_resultados(results):\n",
    "    media = results['test_score'].mean() * 100\n",
    "    desvio = results['test_score'].std() * 100\n",
    "    print(\"Accuracy médio %.2f\" % media)\n",
    "    print(\"Intervalo [%.2f, %.2f]\" % (media - 2 * desvio, media + 2 * desvio))"
   ]
  },
  {
   "cell_type": "code",
   "execution_count": 7,
   "metadata": {
    "colab": {
     "base_uri": "https://localhost:8080/",
     "height": 50
    },
    "colab_type": "code",
    "id": "goijy0rSS7n-",
    "outputId": "bf0df175-81db-4ee7-8ae4-591a31eb66db"
   },
   "outputs": [
    {
     "name": "stdout",
     "output_type": "stream",
     "text": [
      "Accuracy médio 76.64\n",
      "Intervalo [74.98, 78.30]\n"
     ]
    }
   ],
   "source": [
    "# GroupKFold em um pipeline com StandardScaler e SVC\n",
    "\n",
    "from sklearn.preprocessing import StandardScaler\n",
    "from sklearn.svm import SVC\n",
    "from sklearn.pipeline import Pipeline\n",
    "from sklearn.model_selection import GroupKFold\n",
    "\n",
    "np.random.seed(SEED)\n",
    "\n",
    "scaler = StandardScaler()\n",
    "modelo = SVC()\n",
    "\n",
    "pipeline = Pipeline([('transformacao',scaler), ('estimador',modelo)])\n",
    "\n",
    "cv = GroupKFold(n_splits = 10)\n",
    "results = cross_validate(pipeline, x_azar, y_azar, cv = cv, groups = dados.modelo, return_train_score = False)\n",
    "imprime_resultados(results)"
   ]
  },
  {
   "cell_type": "code",
   "execution_count": 8,
   "metadata": {
    "colab": {
     "base_uri": "https://localhost:8080/",
     "height": 50
    },
    "colab_type": "code",
    "id": "IKD8uaWkNcUL",
    "outputId": "c5430f13-067a-4d6a-e840-46d4669e931a"
   },
   "outputs": [
    {
     "name": "stdout",
     "output_type": "stream",
     "text": [
      "Accuracy médio 75.78\n",
      "Intervalo [73.56, 78.00]\n"
     ]
    }
   ],
   "source": [
    "# GroupKFold para analisar como o modelo se comporta com novos grupos\n",
    "\n",
    "np.random.seed(SEED)\n",
    "\n",
    "cv = GroupKFold(n_splits = 10)\n",
    "modelo = DecisionTreeClassifier(max_depth=2)\n",
    "results = cross_validate(modelo, x_azar, y_azar, cv = cv, groups = dados.modelo, return_train_score = False)\n",
    "imprime_resultados(results)"
   ]
  },
  {
   "cell_type": "code",
   "execution_count": 9,
   "metadata": {
    "colab": {
     "base_uri": "https://localhost:8080/",
     "height": 440
    },
    "colab_type": "code",
    "id": "WhJEIZ4bO3J6",
    "outputId": "9ac2fe01-dbbc-41d8-e4c4-b32ffeb75fd7"
   },
   "outputs": [
    {
     "ename": "ExecutableNotFound",
     "evalue": "failed to execute WindowsPath('dot'), make sure the Graphviz executables are on your systems' PATH",
     "output_type": "error",
     "traceback": [
      "\u001b[1;31m---------------------------------------------------------------------------\u001b[0m",
      "\u001b[1;31mFileNotFoundError\u001b[0m                         Traceback (most recent call last)",
      "\u001b[1;32m~\\anaconda3\\lib\\site-packages\\graphviz\\backend\\execute.py\u001b[0m in \u001b[0;36mrun_check\u001b[1;34m(cmd, input_lines, encoding, quiet, **kwargs)\u001b[0m\n\u001b[0;32m     78\u001b[0m                 \u001b[0mkwargs\u001b[0m\u001b[1;33m[\u001b[0m\u001b[1;34m'stdout'\u001b[0m\u001b[1;33m]\u001b[0m \u001b[1;33m=\u001b[0m \u001b[0mkwargs\u001b[0m\u001b[1;33m[\u001b[0m\u001b[1;34m'stderr'\u001b[0m\u001b[1;33m]\u001b[0m \u001b[1;33m=\u001b[0m \u001b[0msubprocess\u001b[0m\u001b[1;33m.\u001b[0m\u001b[0mPIPE\u001b[0m\u001b[1;33m\u001b[0m\u001b[1;33m\u001b[0m\u001b[0m\n\u001b[1;32m---> 79\u001b[1;33m             \u001b[0mproc\u001b[0m \u001b[1;33m=\u001b[0m \u001b[0m_run_input_lines\u001b[0m\u001b[1;33m(\u001b[0m\u001b[0mcmd\u001b[0m\u001b[1;33m,\u001b[0m \u001b[0minput_lines\u001b[0m\u001b[1;33m,\u001b[0m \u001b[0mkwargs\u001b[0m\u001b[1;33m=\u001b[0m\u001b[0mkwargs\u001b[0m\u001b[1;33m)\u001b[0m\u001b[1;33m\u001b[0m\u001b[1;33m\u001b[0m\u001b[0m\n\u001b[0m\u001b[0;32m     80\u001b[0m         \u001b[1;32melse\u001b[0m\u001b[1;33m:\u001b[0m\u001b[1;33m\u001b[0m\u001b[1;33m\u001b[0m\u001b[0m\n",
      "\u001b[1;32m~\\anaconda3\\lib\\site-packages\\graphviz\\backend\\execute.py\u001b[0m in \u001b[0;36m_run_input_lines\u001b[1;34m(cmd, input_lines, kwargs)\u001b[0m\n\u001b[0;32m     98\u001b[0m \u001b[1;32mdef\u001b[0m \u001b[0m_run_input_lines\u001b[0m\u001b[1;33m(\u001b[0m\u001b[0mcmd\u001b[0m\u001b[1;33m,\u001b[0m \u001b[0minput_lines\u001b[0m\u001b[1;33m,\u001b[0m \u001b[1;33m*\u001b[0m\u001b[1;33m,\u001b[0m \u001b[0mkwargs\u001b[0m\u001b[1;33m)\u001b[0m\u001b[1;33m:\u001b[0m\u001b[1;33m\u001b[0m\u001b[1;33m\u001b[0m\u001b[0m\n\u001b[1;32m---> 99\u001b[1;33m     \u001b[0mpopen\u001b[0m \u001b[1;33m=\u001b[0m \u001b[0msubprocess\u001b[0m\u001b[1;33m.\u001b[0m\u001b[0mPopen\u001b[0m\u001b[1;33m(\u001b[0m\u001b[0mcmd\u001b[0m\u001b[1;33m,\u001b[0m \u001b[0mstdin\u001b[0m\u001b[1;33m=\u001b[0m\u001b[0msubprocess\u001b[0m\u001b[1;33m.\u001b[0m\u001b[0mPIPE\u001b[0m\u001b[1;33m,\u001b[0m \u001b[1;33m**\u001b[0m\u001b[0mkwargs\u001b[0m\u001b[1;33m)\u001b[0m\u001b[1;33m\u001b[0m\u001b[1;33m\u001b[0m\u001b[0m\n\u001b[0m\u001b[0;32m    100\u001b[0m \u001b[1;33m\u001b[0m\u001b[0m\n",
      "\u001b[1;32m~\\anaconda3\\lib\\subprocess.py\u001b[0m in \u001b[0;36m__init__\u001b[1;34m(self, args, bufsize, executable, stdin, stdout, stderr, preexec_fn, close_fds, shell, cwd, env, universal_newlines, startupinfo, creationflags, restore_signals, start_new_session, pass_fds, user, group, extra_groups, encoding, errors, text, umask)\u001b[0m\n\u001b[0;32m    950\u001b[0m \u001b[1;33m\u001b[0m\u001b[0m\n\u001b[1;32m--> 951\u001b[1;33m             self._execute_child(args, executable, preexec_fn, close_fds,\n\u001b[0m\u001b[0;32m    952\u001b[0m                                 \u001b[0mpass_fds\u001b[0m\u001b[1;33m,\u001b[0m \u001b[0mcwd\u001b[0m\u001b[1;33m,\u001b[0m \u001b[0menv\u001b[0m\u001b[1;33m,\u001b[0m\u001b[1;33m\u001b[0m\u001b[1;33m\u001b[0m\u001b[0m\n",
      "\u001b[1;32m~\\anaconda3\\lib\\subprocess.py\u001b[0m in \u001b[0;36m_execute_child\u001b[1;34m(self, args, executable, preexec_fn, close_fds, pass_fds, cwd, env, startupinfo, creationflags, shell, p2cread, p2cwrite, c2pread, c2pwrite, errread, errwrite, unused_restore_signals, unused_gid, unused_gids, unused_uid, unused_umask, unused_start_new_session)\u001b[0m\n\u001b[0;32m   1419\u001b[0m             \u001b[1;32mtry\u001b[0m\u001b[1;33m:\u001b[0m\u001b[1;33m\u001b[0m\u001b[1;33m\u001b[0m\u001b[0m\n\u001b[1;32m-> 1420\u001b[1;33m                 hp, ht, pid, tid = _winapi.CreateProcess(executable, args,\n\u001b[0m\u001b[0;32m   1421\u001b[0m                                          \u001b[1;31m# no special security\u001b[0m\u001b[1;33m\u001b[0m\u001b[1;33m\u001b[0m\u001b[0m\n",
      "\u001b[1;31mFileNotFoundError\u001b[0m: [WinError 2] O sistema não pode encontrar o arquivo especificado",
      "\nThe above exception was the direct cause of the following exception:\n",
      "\u001b[1;31mExecutableNotFound\u001b[0m                        Traceback (most recent call last)",
      "\u001b[1;32m~\\anaconda3\\lib\\site-packages\\IPython\\core\\formatters.py\u001b[0m in \u001b[0;36m__call__\u001b[1;34m(self, obj, include, exclude)\u001b[0m\n\u001b[0;32m    968\u001b[0m \u001b[1;33m\u001b[0m\u001b[0m\n\u001b[0;32m    969\u001b[0m             \u001b[1;32mif\u001b[0m \u001b[0mmethod\u001b[0m \u001b[1;32mis\u001b[0m \u001b[1;32mnot\u001b[0m \u001b[1;32mNone\u001b[0m\u001b[1;33m:\u001b[0m\u001b[1;33m\u001b[0m\u001b[1;33m\u001b[0m\u001b[0m\n\u001b[1;32m--> 970\u001b[1;33m                 \u001b[1;32mreturn\u001b[0m \u001b[0mmethod\u001b[0m\u001b[1;33m(\u001b[0m\u001b[0minclude\u001b[0m\u001b[1;33m=\u001b[0m\u001b[0minclude\u001b[0m\u001b[1;33m,\u001b[0m \u001b[0mexclude\u001b[0m\u001b[1;33m=\u001b[0m\u001b[0mexclude\u001b[0m\u001b[1;33m)\u001b[0m\u001b[1;33m\u001b[0m\u001b[1;33m\u001b[0m\u001b[0m\n\u001b[0m\u001b[0;32m    971\u001b[0m             \u001b[1;32mreturn\u001b[0m \u001b[1;32mNone\u001b[0m\u001b[1;33m\u001b[0m\u001b[1;33m\u001b[0m\u001b[0m\n\u001b[0;32m    972\u001b[0m         \u001b[1;32melse\u001b[0m\u001b[1;33m:\u001b[0m\u001b[1;33m\u001b[0m\u001b[1;33m\u001b[0m\u001b[0m\n",
      "\u001b[1;32m~\\anaconda3\\lib\\site-packages\\graphviz\\jupyter_integration.py\u001b[0m in \u001b[0;36m_repr_mimebundle_\u001b[1;34m(self, include, exclude, **_)\u001b[0m\n\u001b[0;32m     96\u001b[0m         \u001b[0minclude\u001b[0m \u001b[1;33m=\u001b[0m \u001b[0mset\u001b[0m\u001b[1;33m(\u001b[0m\u001b[0minclude\u001b[0m\u001b[1;33m)\u001b[0m \u001b[1;32mif\u001b[0m \u001b[0minclude\u001b[0m \u001b[1;32mis\u001b[0m \u001b[1;32mnot\u001b[0m \u001b[1;32mNone\u001b[0m \u001b[1;32melse\u001b[0m \u001b[1;33m{\u001b[0m\u001b[0mself\u001b[0m\u001b[1;33m.\u001b[0m\u001b[0m_jupyter_mimetype\u001b[0m\u001b[1;33m}\u001b[0m\u001b[1;33m\u001b[0m\u001b[1;33m\u001b[0m\u001b[0m\n\u001b[0;32m     97\u001b[0m         \u001b[0minclude\u001b[0m \u001b[1;33m-=\u001b[0m \u001b[0mset\u001b[0m\u001b[1;33m(\u001b[0m\u001b[0mexclude\u001b[0m \u001b[1;32mor\u001b[0m \u001b[1;33m[\u001b[0m\u001b[1;33m]\u001b[0m\u001b[1;33m)\u001b[0m\u001b[1;33m\u001b[0m\u001b[1;33m\u001b[0m\u001b[0m\n\u001b[1;32m---> 98\u001b[1;33m         return {mimetype: getattr(self, method_name)()\n\u001b[0m\u001b[0;32m     99\u001b[0m                 \u001b[1;32mfor\u001b[0m \u001b[0mmimetype\u001b[0m\u001b[1;33m,\u001b[0m \u001b[0mmethod_name\u001b[0m \u001b[1;32min\u001b[0m \u001b[0mMIME_TYPES\u001b[0m\u001b[1;33m.\u001b[0m\u001b[0mitems\u001b[0m\u001b[1;33m(\u001b[0m\u001b[1;33m)\u001b[0m\u001b[1;33m\u001b[0m\u001b[1;33m\u001b[0m\u001b[0m\n\u001b[0;32m    100\u001b[0m                 if mimetype in include}\n",
      "\u001b[1;32m~\\anaconda3\\lib\\site-packages\\graphviz\\jupyter_integration.py\u001b[0m in \u001b[0;36m<dictcomp>\u001b[1;34m(.0)\u001b[0m\n\u001b[0;32m     96\u001b[0m         \u001b[0minclude\u001b[0m \u001b[1;33m=\u001b[0m \u001b[0mset\u001b[0m\u001b[1;33m(\u001b[0m\u001b[0minclude\u001b[0m\u001b[1;33m)\u001b[0m \u001b[1;32mif\u001b[0m \u001b[0minclude\u001b[0m \u001b[1;32mis\u001b[0m \u001b[1;32mnot\u001b[0m \u001b[1;32mNone\u001b[0m \u001b[1;32melse\u001b[0m \u001b[1;33m{\u001b[0m\u001b[0mself\u001b[0m\u001b[1;33m.\u001b[0m\u001b[0m_jupyter_mimetype\u001b[0m\u001b[1;33m}\u001b[0m\u001b[1;33m\u001b[0m\u001b[1;33m\u001b[0m\u001b[0m\n\u001b[0;32m     97\u001b[0m         \u001b[0minclude\u001b[0m \u001b[1;33m-=\u001b[0m \u001b[0mset\u001b[0m\u001b[1;33m(\u001b[0m\u001b[0mexclude\u001b[0m \u001b[1;32mor\u001b[0m \u001b[1;33m[\u001b[0m\u001b[1;33m]\u001b[0m\u001b[1;33m)\u001b[0m\u001b[1;33m\u001b[0m\u001b[1;33m\u001b[0m\u001b[0m\n\u001b[1;32m---> 98\u001b[1;33m         return {mimetype: getattr(self, method_name)()\n\u001b[0m\u001b[0;32m     99\u001b[0m                 \u001b[1;32mfor\u001b[0m \u001b[0mmimetype\u001b[0m\u001b[1;33m,\u001b[0m \u001b[0mmethod_name\u001b[0m \u001b[1;32min\u001b[0m \u001b[0mMIME_TYPES\u001b[0m\u001b[1;33m.\u001b[0m\u001b[0mitems\u001b[0m\u001b[1;33m(\u001b[0m\u001b[1;33m)\u001b[0m\u001b[1;33m\u001b[0m\u001b[1;33m\u001b[0m\u001b[0m\n\u001b[0;32m    100\u001b[0m                 if mimetype in include}\n",
      "\u001b[1;32m~\\anaconda3\\lib\\site-packages\\graphviz\\jupyter_integration.py\u001b[0m in \u001b[0;36m_repr_image_svg_xml\u001b[1;34m(self)\u001b[0m\n\u001b[0;32m    110\u001b[0m     \u001b[1;32mdef\u001b[0m \u001b[0m_repr_image_svg_xml\u001b[0m\u001b[1;33m(\u001b[0m\u001b[0mself\u001b[0m\u001b[1;33m)\u001b[0m \u001b[1;33m->\u001b[0m \u001b[0mstr\u001b[0m\u001b[1;33m:\u001b[0m\u001b[1;33m\u001b[0m\u001b[1;33m\u001b[0m\u001b[0m\n\u001b[0;32m    111\u001b[0m         \u001b[1;34m\"\"\"Return the rendered graph as SVG string.\"\"\"\u001b[0m\u001b[1;33m\u001b[0m\u001b[1;33m\u001b[0m\u001b[0m\n\u001b[1;32m--> 112\u001b[1;33m         \u001b[1;32mreturn\u001b[0m \u001b[0mself\u001b[0m\u001b[1;33m.\u001b[0m\u001b[0mpipe\u001b[0m\u001b[1;33m(\u001b[0m\u001b[0mformat\u001b[0m\u001b[1;33m=\u001b[0m\u001b[1;34m'svg'\u001b[0m\u001b[1;33m,\u001b[0m \u001b[0mencoding\u001b[0m\u001b[1;33m=\u001b[0m\u001b[0mSVG_ENCODING\u001b[0m\u001b[1;33m)\u001b[0m\u001b[1;33m\u001b[0m\u001b[1;33m\u001b[0m\u001b[0m\n\u001b[0m",
      "\u001b[1;32m~\\anaconda3\\lib\\site-packages\\graphviz\\piping.py\u001b[0m in \u001b[0;36mpipe\u001b[1;34m(self, format, renderer, formatter, neato_no_op, quiet, engine, encoding)\u001b[0m\n\u001b[0;32m    102\u001b[0m             \u001b[1;34m'<?xml version='\u001b[0m\u001b[1;33m\u001b[0m\u001b[1;33m\u001b[0m\u001b[0m\n\u001b[0;32m    103\u001b[0m         \"\"\"\n\u001b[1;32m--> 104\u001b[1;33m         return self._pipe_legacy(format,\n\u001b[0m\u001b[0;32m    105\u001b[0m                                  \u001b[0mrenderer\u001b[0m\u001b[1;33m=\u001b[0m\u001b[0mrenderer\u001b[0m\u001b[1;33m,\u001b[0m\u001b[1;33m\u001b[0m\u001b[1;33m\u001b[0m\u001b[0m\n\u001b[0;32m    106\u001b[0m                                  \u001b[0mformatter\u001b[0m\u001b[1;33m=\u001b[0m\u001b[0mformatter\u001b[0m\u001b[1;33m,\u001b[0m\u001b[1;33m\u001b[0m\u001b[1;33m\u001b[0m\u001b[0m\n",
      "\u001b[1;32m~\\anaconda3\\lib\\site-packages\\graphviz\\_tools.py\u001b[0m in \u001b[0;36mwrapper\u001b[1;34m(*args, **kwargs)\u001b[0m\n\u001b[0;32m    169\u001b[0m                               category=category)\n\u001b[0;32m    170\u001b[0m \u001b[1;33m\u001b[0m\u001b[0m\n\u001b[1;32m--> 171\u001b[1;33m             \u001b[1;32mreturn\u001b[0m \u001b[0mfunc\u001b[0m\u001b[1;33m(\u001b[0m\u001b[1;33m*\u001b[0m\u001b[0margs\u001b[0m\u001b[1;33m,\u001b[0m \u001b[1;33m**\u001b[0m\u001b[0mkwargs\u001b[0m\u001b[1;33m)\u001b[0m\u001b[1;33m\u001b[0m\u001b[1;33m\u001b[0m\u001b[0m\n\u001b[0m\u001b[0;32m    172\u001b[0m \u001b[1;33m\u001b[0m\u001b[0m\n\u001b[0;32m    173\u001b[0m         \u001b[1;32mreturn\u001b[0m \u001b[0mwrapper\u001b[0m\u001b[1;33m\u001b[0m\u001b[1;33m\u001b[0m\u001b[0m\n",
      "\u001b[1;32m~\\anaconda3\\lib\\site-packages\\graphviz\\piping.py\u001b[0m in \u001b[0;36m_pipe_legacy\u001b[1;34m(self, format, renderer, formatter, neato_no_op, quiet, engine, encoding)\u001b[0m\n\u001b[0;32m    119\u001b[0m                      \u001b[0mengine\u001b[0m\u001b[1;33m:\u001b[0m \u001b[0mtyping\u001b[0m\u001b[1;33m.\u001b[0m\u001b[0mOptional\u001b[0m\u001b[1;33m[\u001b[0m\u001b[0mstr\u001b[0m\u001b[1;33m]\u001b[0m \u001b[1;33m=\u001b[0m \u001b[1;32mNone\u001b[0m\u001b[1;33m,\u001b[0m\u001b[1;33m\u001b[0m\u001b[1;33m\u001b[0m\u001b[0m\n\u001b[0;32m    120\u001b[0m                      encoding: typing.Optional[str] = None) -> typing.Union[bytes, str]:\n\u001b[1;32m--> 121\u001b[1;33m         return self._pipe_future(format,\n\u001b[0m\u001b[0;32m    122\u001b[0m                                  \u001b[0mrenderer\u001b[0m\u001b[1;33m=\u001b[0m\u001b[0mrenderer\u001b[0m\u001b[1;33m,\u001b[0m\u001b[1;33m\u001b[0m\u001b[1;33m\u001b[0m\u001b[0m\n\u001b[0;32m    123\u001b[0m                                  \u001b[0mformatter\u001b[0m\u001b[1;33m=\u001b[0m\u001b[0mformatter\u001b[0m\u001b[1;33m,\u001b[0m\u001b[1;33m\u001b[0m\u001b[1;33m\u001b[0m\u001b[0m\n",
      "\u001b[1;32m~\\anaconda3\\lib\\site-packages\\graphviz\\piping.py\u001b[0m in \u001b[0;36m_pipe_future\u001b[1;34m(self, format, renderer, formatter, neato_no_op, quiet, engine, encoding)\u001b[0m\n\u001b[0;32m    147\u001b[0m             \u001b[1;32mif\u001b[0m \u001b[0mcodecs\u001b[0m\u001b[1;33m.\u001b[0m\u001b[0mlookup\u001b[0m\u001b[1;33m(\u001b[0m\u001b[0mencoding\u001b[0m\u001b[1;33m)\u001b[0m \u001b[1;32mis\u001b[0m \u001b[0mcodecs\u001b[0m\u001b[1;33m.\u001b[0m\u001b[0mlookup\u001b[0m\u001b[1;33m(\u001b[0m\u001b[0mself\u001b[0m\u001b[1;33m.\u001b[0m\u001b[0mencoding\u001b[0m\u001b[1;33m)\u001b[0m\u001b[1;33m:\u001b[0m\u001b[1;33m\u001b[0m\u001b[1;33m\u001b[0m\u001b[0m\n\u001b[0;32m    148\u001b[0m                 \u001b[1;31m# common case: both stdin and stdout need the same encoding\u001b[0m\u001b[1;33m\u001b[0m\u001b[1;33m\u001b[0m\u001b[0m\n\u001b[1;32m--> 149\u001b[1;33m                 \u001b[1;32mreturn\u001b[0m \u001b[0mself\u001b[0m\u001b[1;33m.\u001b[0m\u001b[0m_pipe_lines_string\u001b[0m\u001b[1;33m(\u001b[0m\u001b[1;33m*\u001b[0m\u001b[0margs\u001b[0m\u001b[1;33m,\u001b[0m \u001b[0mencoding\u001b[0m\u001b[1;33m=\u001b[0m\u001b[0mencoding\u001b[0m\u001b[1;33m,\u001b[0m \u001b[1;33m**\u001b[0m\u001b[0mkwargs\u001b[0m\u001b[1;33m)\u001b[0m\u001b[1;33m\u001b[0m\u001b[1;33m\u001b[0m\u001b[0m\n\u001b[0m\u001b[0;32m    150\u001b[0m             \u001b[1;32mtry\u001b[0m\u001b[1;33m:\u001b[0m\u001b[1;33m\u001b[0m\u001b[1;33m\u001b[0m\u001b[0m\n\u001b[0;32m    151\u001b[0m                 \u001b[0mraw\u001b[0m \u001b[1;33m=\u001b[0m \u001b[0mself\u001b[0m\u001b[1;33m.\u001b[0m\u001b[0m_pipe_lines\u001b[0m\u001b[1;33m(\u001b[0m\u001b[1;33m*\u001b[0m\u001b[0margs\u001b[0m\u001b[1;33m,\u001b[0m \u001b[0minput_encoding\u001b[0m\u001b[1;33m=\u001b[0m\u001b[0mself\u001b[0m\u001b[1;33m.\u001b[0m\u001b[0mencoding\u001b[0m\u001b[1;33m,\u001b[0m \u001b[1;33m**\u001b[0m\u001b[0mkwargs\u001b[0m\u001b[1;33m)\u001b[0m\u001b[1;33m\u001b[0m\u001b[1;33m\u001b[0m\u001b[0m\n",
      "\u001b[1;32m~\\anaconda3\\lib\\site-packages\\graphviz\\backend\\piping.py\u001b[0m in \u001b[0;36mpipe_lines_string\u001b[1;34m(engine, format, input_lines, encoding, renderer, formatter, neato_no_op, quiet)\u001b[0m\n\u001b[0;32m    210\u001b[0m     \u001b[0mkwargs\u001b[0m \u001b[1;33m=\u001b[0m \u001b[1;33m{\u001b[0m\u001b[1;34m'input_lines'\u001b[0m\u001b[1;33m:\u001b[0m \u001b[0minput_lines\u001b[0m\u001b[1;33m,\u001b[0m \u001b[1;34m'encoding'\u001b[0m\u001b[1;33m:\u001b[0m \u001b[0mencoding\u001b[0m\u001b[1;33m}\u001b[0m\u001b[1;33m\u001b[0m\u001b[1;33m\u001b[0m\u001b[0m\n\u001b[0;32m    211\u001b[0m \u001b[1;33m\u001b[0m\u001b[0m\n\u001b[1;32m--> 212\u001b[1;33m     \u001b[0mproc\u001b[0m \u001b[1;33m=\u001b[0m \u001b[0mexecute\u001b[0m\u001b[1;33m.\u001b[0m\u001b[0mrun_check\u001b[0m\u001b[1;33m(\u001b[0m\u001b[0mcmd\u001b[0m\u001b[1;33m,\u001b[0m \u001b[0mcapture_output\u001b[0m\u001b[1;33m=\u001b[0m\u001b[1;32mTrue\u001b[0m\u001b[1;33m,\u001b[0m \u001b[0mquiet\u001b[0m\u001b[1;33m=\u001b[0m\u001b[0mquiet\u001b[0m\u001b[1;33m,\u001b[0m \u001b[1;33m**\u001b[0m\u001b[0mkwargs\u001b[0m\u001b[1;33m)\u001b[0m\u001b[1;33m\u001b[0m\u001b[1;33m\u001b[0m\u001b[0m\n\u001b[0m\u001b[0;32m    213\u001b[0m     \u001b[1;32mreturn\u001b[0m \u001b[0mproc\u001b[0m\u001b[1;33m.\u001b[0m\u001b[0mstdout\u001b[0m\u001b[1;33m\u001b[0m\u001b[1;33m\u001b[0m\u001b[0m\n",
      "\u001b[1;32m~\\anaconda3\\lib\\site-packages\\graphviz\\backend\\execute.py\u001b[0m in \u001b[0;36mrun_check\u001b[1;34m(cmd, input_lines, encoding, quiet, **kwargs)\u001b[0m\n\u001b[0;32m     82\u001b[0m     \u001b[1;32mexcept\u001b[0m \u001b[0mOSError\u001b[0m \u001b[1;32mas\u001b[0m \u001b[0me\u001b[0m\u001b[1;33m:\u001b[0m\u001b[1;33m\u001b[0m\u001b[1;33m\u001b[0m\u001b[0m\n\u001b[0;32m     83\u001b[0m         \u001b[1;32mif\u001b[0m \u001b[0me\u001b[0m\u001b[1;33m.\u001b[0m\u001b[0merrno\u001b[0m \u001b[1;33m==\u001b[0m \u001b[0merrno\u001b[0m\u001b[1;33m.\u001b[0m\u001b[0mENOENT\u001b[0m\u001b[1;33m:\u001b[0m\u001b[1;33m\u001b[0m\u001b[1;33m\u001b[0m\u001b[0m\n\u001b[1;32m---> 84\u001b[1;33m             \u001b[1;32mraise\u001b[0m \u001b[0mExecutableNotFound\u001b[0m\u001b[1;33m(\u001b[0m\u001b[0mcmd\u001b[0m\u001b[1;33m)\u001b[0m \u001b[1;32mfrom\u001b[0m \u001b[0me\u001b[0m\u001b[1;33m\u001b[0m\u001b[1;33m\u001b[0m\u001b[0m\n\u001b[0m\u001b[0;32m     85\u001b[0m         \u001b[1;32mraise\u001b[0m\u001b[1;33m\u001b[0m\u001b[1;33m\u001b[0m\u001b[0m\n\u001b[0;32m     86\u001b[0m \u001b[1;33m\u001b[0m\u001b[0m\n",
      "\u001b[1;31mExecutableNotFound\u001b[0m: failed to execute WindowsPath('dot'), make sure the Graphviz executables are on your systems' PATH"
     ]
    },
    {
     "data": {
      "text/plain": [
       "<graphviz.sources.Source at 0x23e17304f70>"
      ]
     },
     "execution_count": 9,
     "metadata": {},
     "output_type": "execute_result"
    }
   ],
   "source": [
    "from sklearn.tree import export_graphviz\n",
    "import graphviz\n",
    "\n",
    "modelo.fit(x_azar, y_azar)\n",
    "features = x_azar.columns\n",
    "dot_data = export_graphviz(modelo, out_file = None, filled = True, rounded = True,\n",
    "                          class_names=[\"não\",\"sim\"],\n",
    "                          feature_names = features)\n",
    "graph = graphviz.Source(dot_data)\n",
    "graph"
   ]
  },
  {
   "cell_type": "code",
   "execution_count": 10,
   "metadata": {
    "colab": {
     "base_uri": "https://localhost:8080/",
     "height": 50
    },
    "colab_type": "code",
    "id": "zdfgLexRPQ54",
    "outputId": "c8c75555-27f2-4ceb-e31b-57d7938723f3"
   },
   "outputs": [
    {
     "name": "stdout",
     "output_type": "stream",
     "text": [
      "Accuracy médio 78.68\n",
      "Intervalo [76.63, 80.73]\n"
     ]
    }
   ],
   "source": [
    "# GroupKFold para analisar como o modelo se comporta com novos grupos\n",
    "\n",
    "from sklearn.model_selection import GroupKFold\n",
    "\n",
    "SEED = 301\n",
    "np.random.seed(SEED)\n",
    "\n",
    "cv = GroupKFold(n_splits = 10)\n",
    "modelo = DecisionTreeClassifier(max_depth=3)\n",
    "results = cross_validate(modelo, x_azar, y_azar, cv = cv, groups = dados.modelo, return_train_score=False)\n",
    "imprime_resultados(results)"
   ]
  },
  {
   "cell_type": "code",
   "execution_count": 11,
   "metadata": {
    "colab": {
     "base_uri": "https://localhost:8080/",
     "height": 618
    },
    "colab_type": "code",
    "id": "kSe6rPpdQ4Wy",
    "outputId": "e93cc869-3790-4c65-d712-fb1dc82111dc"
   },
   "outputs": [
    {
     "ename": "ExecutableNotFound",
     "evalue": "failed to execute WindowsPath('dot'), make sure the Graphviz executables are on your systems' PATH",
     "output_type": "error",
     "traceback": [
      "\u001b[1;31m---------------------------------------------------------------------------\u001b[0m",
      "\u001b[1;31mFileNotFoundError\u001b[0m                         Traceback (most recent call last)",
      "\u001b[1;32m~\\anaconda3\\lib\\site-packages\\graphviz\\backend\\execute.py\u001b[0m in \u001b[0;36mrun_check\u001b[1;34m(cmd, input_lines, encoding, quiet, **kwargs)\u001b[0m\n\u001b[0;32m     78\u001b[0m                 \u001b[0mkwargs\u001b[0m\u001b[1;33m[\u001b[0m\u001b[1;34m'stdout'\u001b[0m\u001b[1;33m]\u001b[0m \u001b[1;33m=\u001b[0m \u001b[0mkwargs\u001b[0m\u001b[1;33m[\u001b[0m\u001b[1;34m'stderr'\u001b[0m\u001b[1;33m]\u001b[0m \u001b[1;33m=\u001b[0m \u001b[0msubprocess\u001b[0m\u001b[1;33m.\u001b[0m\u001b[0mPIPE\u001b[0m\u001b[1;33m\u001b[0m\u001b[1;33m\u001b[0m\u001b[0m\n\u001b[1;32m---> 79\u001b[1;33m             \u001b[0mproc\u001b[0m \u001b[1;33m=\u001b[0m \u001b[0m_run_input_lines\u001b[0m\u001b[1;33m(\u001b[0m\u001b[0mcmd\u001b[0m\u001b[1;33m,\u001b[0m \u001b[0minput_lines\u001b[0m\u001b[1;33m,\u001b[0m \u001b[0mkwargs\u001b[0m\u001b[1;33m=\u001b[0m\u001b[0mkwargs\u001b[0m\u001b[1;33m)\u001b[0m\u001b[1;33m\u001b[0m\u001b[1;33m\u001b[0m\u001b[0m\n\u001b[0m\u001b[0;32m     80\u001b[0m         \u001b[1;32melse\u001b[0m\u001b[1;33m:\u001b[0m\u001b[1;33m\u001b[0m\u001b[1;33m\u001b[0m\u001b[0m\n",
      "\u001b[1;32m~\\anaconda3\\lib\\site-packages\\graphviz\\backend\\execute.py\u001b[0m in \u001b[0;36m_run_input_lines\u001b[1;34m(cmd, input_lines, kwargs)\u001b[0m\n\u001b[0;32m     98\u001b[0m \u001b[1;32mdef\u001b[0m \u001b[0m_run_input_lines\u001b[0m\u001b[1;33m(\u001b[0m\u001b[0mcmd\u001b[0m\u001b[1;33m,\u001b[0m \u001b[0minput_lines\u001b[0m\u001b[1;33m,\u001b[0m \u001b[1;33m*\u001b[0m\u001b[1;33m,\u001b[0m \u001b[0mkwargs\u001b[0m\u001b[1;33m)\u001b[0m\u001b[1;33m:\u001b[0m\u001b[1;33m\u001b[0m\u001b[1;33m\u001b[0m\u001b[0m\n\u001b[1;32m---> 99\u001b[1;33m     \u001b[0mpopen\u001b[0m \u001b[1;33m=\u001b[0m \u001b[0msubprocess\u001b[0m\u001b[1;33m.\u001b[0m\u001b[0mPopen\u001b[0m\u001b[1;33m(\u001b[0m\u001b[0mcmd\u001b[0m\u001b[1;33m,\u001b[0m \u001b[0mstdin\u001b[0m\u001b[1;33m=\u001b[0m\u001b[0msubprocess\u001b[0m\u001b[1;33m.\u001b[0m\u001b[0mPIPE\u001b[0m\u001b[1;33m,\u001b[0m \u001b[1;33m**\u001b[0m\u001b[0mkwargs\u001b[0m\u001b[1;33m)\u001b[0m\u001b[1;33m\u001b[0m\u001b[1;33m\u001b[0m\u001b[0m\n\u001b[0m\u001b[0;32m    100\u001b[0m \u001b[1;33m\u001b[0m\u001b[0m\n",
      "\u001b[1;32m~\\anaconda3\\lib\\subprocess.py\u001b[0m in \u001b[0;36m__init__\u001b[1;34m(self, args, bufsize, executable, stdin, stdout, stderr, preexec_fn, close_fds, shell, cwd, env, universal_newlines, startupinfo, creationflags, restore_signals, start_new_session, pass_fds, user, group, extra_groups, encoding, errors, text, umask)\u001b[0m\n\u001b[0;32m    950\u001b[0m \u001b[1;33m\u001b[0m\u001b[0m\n\u001b[1;32m--> 951\u001b[1;33m             self._execute_child(args, executable, preexec_fn, close_fds,\n\u001b[0m\u001b[0;32m    952\u001b[0m                                 \u001b[0mpass_fds\u001b[0m\u001b[1;33m,\u001b[0m \u001b[0mcwd\u001b[0m\u001b[1;33m,\u001b[0m \u001b[0menv\u001b[0m\u001b[1;33m,\u001b[0m\u001b[1;33m\u001b[0m\u001b[1;33m\u001b[0m\u001b[0m\n",
      "\u001b[1;32m~\\anaconda3\\lib\\subprocess.py\u001b[0m in \u001b[0;36m_execute_child\u001b[1;34m(self, args, executable, preexec_fn, close_fds, pass_fds, cwd, env, startupinfo, creationflags, shell, p2cread, p2cwrite, c2pread, c2pwrite, errread, errwrite, unused_restore_signals, unused_gid, unused_gids, unused_uid, unused_umask, unused_start_new_session)\u001b[0m\n\u001b[0;32m   1419\u001b[0m             \u001b[1;32mtry\u001b[0m\u001b[1;33m:\u001b[0m\u001b[1;33m\u001b[0m\u001b[1;33m\u001b[0m\u001b[0m\n\u001b[1;32m-> 1420\u001b[1;33m                 hp, ht, pid, tid = _winapi.CreateProcess(executable, args,\n\u001b[0m\u001b[0;32m   1421\u001b[0m                                          \u001b[1;31m# no special security\u001b[0m\u001b[1;33m\u001b[0m\u001b[1;33m\u001b[0m\u001b[0m\n",
      "\u001b[1;31mFileNotFoundError\u001b[0m: [WinError 2] O sistema não pode encontrar o arquivo especificado",
      "\nThe above exception was the direct cause of the following exception:\n",
      "\u001b[1;31mExecutableNotFound\u001b[0m                        Traceback (most recent call last)",
      "\u001b[1;32m~\\anaconda3\\lib\\site-packages\\IPython\\core\\formatters.py\u001b[0m in \u001b[0;36m__call__\u001b[1;34m(self, obj, include, exclude)\u001b[0m\n\u001b[0;32m    968\u001b[0m \u001b[1;33m\u001b[0m\u001b[0m\n\u001b[0;32m    969\u001b[0m             \u001b[1;32mif\u001b[0m \u001b[0mmethod\u001b[0m \u001b[1;32mis\u001b[0m \u001b[1;32mnot\u001b[0m \u001b[1;32mNone\u001b[0m\u001b[1;33m:\u001b[0m\u001b[1;33m\u001b[0m\u001b[1;33m\u001b[0m\u001b[0m\n\u001b[1;32m--> 970\u001b[1;33m                 \u001b[1;32mreturn\u001b[0m \u001b[0mmethod\u001b[0m\u001b[1;33m(\u001b[0m\u001b[0minclude\u001b[0m\u001b[1;33m=\u001b[0m\u001b[0minclude\u001b[0m\u001b[1;33m,\u001b[0m \u001b[0mexclude\u001b[0m\u001b[1;33m=\u001b[0m\u001b[0mexclude\u001b[0m\u001b[1;33m)\u001b[0m\u001b[1;33m\u001b[0m\u001b[1;33m\u001b[0m\u001b[0m\n\u001b[0m\u001b[0;32m    971\u001b[0m             \u001b[1;32mreturn\u001b[0m \u001b[1;32mNone\u001b[0m\u001b[1;33m\u001b[0m\u001b[1;33m\u001b[0m\u001b[0m\n\u001b[0;32m    972\u001b[0m         \u001b[1;32melse\u001b[0m\u001b[1;33m:\u001b[0m\u001b[1;33m\u001b[0m\u001b[1;33m\u001b[0m\u001b[0m\n",
      "\u001b[1;32m~\\anaconda3\\lib\\site-packages\\graphviz\\jupyter_integration.py\u001b[0m in \u001b[0;36m_repr_mimebundle_\u001b[1;34m(self, include, exclude, **_)\u001b[0m\n\u001b[0;32m     96\u001b[0m         \u001b[0minclude\u001b[0m \u001b[1;33m=\u001b[0m \u001b[0mset\u001b[0m\u001b[1;33m(\u001b[0m\u001b[0minclude\u001b[0m\u001b[1;33m)\u001b[0m \u001b[1;32mif\u001b[0m \u001b[0minclude\u001b[0m \u001b[1;32mis\u001b[0m \u001b[1;32mnot\u001b[0m \u001b[1;32mNone\u001b[0m \u001b[1;32melse\u001b[0m \u001b[1;33m{\u001b[0m\u001b[0mself\u001b[0m\u001b[1;33m.\u001b[0m\u001b[0m_jupyter_mimetype\u001b[0m\u001b[1;33m}\u001b[0m\u001b[1;33m\u001b[0m\u001b[1;33m\u001b[0m\u001b[0m\n\u001b[0;32m     97\u001b[0m         \u001b[0minclude\u001b[0m \u001b[1;33m-=\u001b[0m \u001b[0mset\u001b[0m\u001b[1;33m(\u001b[0m\u001b[0mexclude\u001b[0m \u001b[1;32mor\u001b[0m \u001b[1;33m[\u001b[0m\u001b[1;33m]\u001b[0m\u001b[1;33m)\u001b[0m\u001b[1;33m\u001b[0m\u001b[1;33m\u001b[0m\u001b[0m\n\u001b[1;32m---> 98\u001b[1;33m         return {mimetype: getattr(self, method_name)()\n\u001b[0m\u001b[0;32m     99\u001b[0m                 \u001b[1;32mfor\u001b[0m \u001b[0mmimetype\u001b[0m\u001b[1;33m,\u001b[0m \u001b[0mmethod_name\u001b[0m \u001b[1;32min\u001b[0m \u001b[0mMIME_TYPES\u001b[0m\u001b[1;33m.\u001b[0m\u001b[0mitems\u001b[0m\u001b[1;33m(\u001b[0m\u001b[1;33m)\u001b[0m\u001b[1;33m\u001b[0m\u001b[1;33m\u001b[0m\u001b[0m\n\u001b[0;32m    100\u001b[0m                 if mimetype in include}\n",
      "\u001b[1;32m~\\anaconda3\\lib\\site-packages\\graphviz\\jupyter_integration.py\u001b[0m in \u001b[0;36m<dictcomp>\u001b[1;34m(.0)\u001b[0m\n\u001b[0;32m     96\u001b[0m         \u001b[0minclude\u001b[0m \u001b[1;33m=\u001b[0m \u001b[0mset\u001b[0m\u001b[1;33m(\u001b[0m\u001b[0minclude\u001b[0m\u001b[1;33m)\u001b[0m \u001b[1;32mif\u001b[0m \u001b[0minclude\u001b[0m \u001b[1;32mis\u001b[0m \u001b[1;32mnot\u001b[0m \u001b[1;32mNone\u001b[0m \u001b[1;32melse\u001b[0m \u001b[1;33m{\u001b[0m\u001b[0mself\u001b[0m\u001b[1;33m.\u001b[0m\u001b[0m_jupyter_mimetype\u001b[0m\u001b[1;33m}\u001b[0m\u001b[1;33m\u001b[0m\u001b[1;33m\u001b[0m\u001b[0m\n\u001b[0;32m     97\u001b[0m         \u001b[0minclude\u001b[0m \u001b[1;33m-=\u001b[0m \u001b[0mset\u001b[0m\u001b[1;33m(\u001b[0m\u001b[0mexclude\u001b[0m \u001b[1;32mor\u001b[0m \u001b[1;33m[\u001b[0m\u001b[1;33m]\u001b[0m\u001b[1;33m)\u001b[0m\u001b[1;33m\u001b[0m\u001b[1;33m\u001b[0m\u001b[0m\n\u001b[1;32m---> 98\u001b[1;33m         return {mimetype: getattr(self, method_name)()\n\u001b[0m\u001b[0;32m     99\u001b[0m                 \u001b[1;32mfor\u001b[0m \u001b[0mmimetype\u001b[0m\u001b[1;33m,\u001b[0m \u001b[0mmethod_name\u001b[0m \u001b[1;32min\u001b[0m \u001b[0mMIME_TYPES\u001b[0m\u001b[1;33m.\u001b[0m\u001b[0mitems\u001b[0m\u001b[1;33m(\u001b[0m\u001b[1;33m)\u001b[0m\u001b[1;33m\u001b[0m\u001b[1;33m\u001b[0m\u001b[0m\n\u001b[0;32m    100\u001b[0m                 if mimetype in include}\n",
      "\u001b[1;32m~\\anaconda3\\lib\\site-packages\\graphviz\\jupyter_integration.py\u001b[0m in \u001b[0;36m_repr_image_svg_xml\u001b[1;34m(self)\u001b[0m\n\u001b[0;32m    110\u001b[0m     \u001b[1;32mdef\u001b[0m \u001b[0m_repr_image_svg_xml\u001b[0m\u001b[1;33m(\u001b[0m\u001b[0mself\u001b[0m\u001b[1;33m)\u001b[0m \u001b[1;33m->\u001b[0m \u001b[0mstr\u001b[0m\u001b[1;33m:\u001b[0m\u001b[1;33m\u001b[0m\u001b[1;33m\u001b[0m\u001b[0m\n\u001b[0;32m    111\u001b[0m         \u001b[1;34m\"\"\"Return the rendered graph as SVG string.\"\"\"\u001b[0m\u001b[1;33m\u001b[0m\u001b[1;33m\u001b[0m\u001b[0m\n\u001b[1;32m--> 112\u001b[1;33m         \u001b[1;32mreturn\u001b[0m \u001b[0mself\u001b[0m\u001b[1;33m.\u001b[0m\u001b[0mpipe\u001b[0m\u001b[1;33m(\u001b[0m\u001b[0mformat\u001b[0m\u001b[1;33m=\u001b[0m\u001b[1;34m'svg'\u001b[0m\u001b[1;33m,\u001b[0m \u001b[0mencoding\u001b[0m\u001b[1;33m=\u001b[0m\u001b[0mSVG_ENCODING\u001b[0m\u001b[1;33m)\u001b[0m\u001b[1;33m\u001b[0m\u001b[1;33m\u001b[0m\u001b[0m\n\u001b[0m",
      "\u001b[1;32m~\\anaconda3\\lib\\site-packages\\graphviz\\piping.py\u001b[0m in \u001b[0;36mpipe\u001b[1;34m(self, format, renderer, formatter, neato_no_op, quiet, engine, encoding)\u001b[0m\n\u001b[0;32m    102\u001b[0m             \u001b[1;34m'<?xml version='\u001b[0m\u001b[1;33m\u001b[0m\u001b[1;33m\u001b[0m\u001b[0m\n\u001b[0;32m    103\u001b[0m         \"\"\"\n\u001b[1;32m--> 104\u001b[1;33m         return self._pipe_legacy(format,\n\u001b[0m\u001b[0;32m    105\u001b[0m                                  \u001b[0mrenderer\u001b[0m\u001b[1;33m=\u001b[0m\u001b[0mrenderer\u001b[0m\u001b[1;33m,\u001b[0m\u001b[1;33m\u001b[0m\u001b[1;33m\u001b[0m\u001b[0m\n\u001b[0;32m    106\u001b[0m                                  \u001b[0mformatter\u001b[0m\u001b[1;33m=\u001b[0m\u001b[0mformatter\u001b[0m\u001b[1;33m,\u001b[0m\u001b[1;33m\u001b[0m\u001b[1;33m\u001b[0m\u001b[0m\n",
      "\u001b[1;32m~\\anaconda3\\lib\\site-packages\\graphviz\\_tools.py\u001b[0m in \u001b[0;36mwrapper\u001b[1;34m(*args, **kwargs)\u001b[0m\n\u001b[0;32m    169\u001b[0m                               category=category)\n\u001b[0;32m    170\u001b[0m \u001b[1;33m\u001b[0m\u001b[0m\n\u001b[1;32m--> 171\u001b[1;33m             \u001b[1;32mreturn\u001b[0m \u001b[0mfunc\u001b[0m\u001b[1;33m(\u001b[0m\u001b[1;33m*\u001b[0m\u001b[0margs\u001b[0m\u001b[1;33m,\u001b[0m \u001b[1;33m**\u001b[0m\u001b[0mkwargs\u001b[0m\u001b[1;33m)\u001b[0m\u001b[1;33m\u001b[0m\u001b[1;33m\u001b[0m\u001b[0m\n\u001b[0m\u001b[0;32m    172\u001b[0m \u001b[1;33m\u001b[0m\u001b[0m\n\u001b[0;32m    173\u001b[0m         \u001b[1;32mreturn\u001b[0m \u001b[0mwrapper\u001b[0m\u001b[1;33m\u001b[0m\u001b[1;33m\u001b[0m\u001b[0m\n",
      "\u001b[1;32m~\\anaconda3\\lib\\site-packages\\graphviz\\piping.py\u001b[0m in \u001b[0;36m_pipe_legacy\u001b[1;34m(self, format, renderer, formatter, neato_no_op, quiet, engine, encoding)\u001b[0m\n\u001b[0;32m    119\u001b[0m                      \u001b[0mengine\u001b[0m\u001b[1;33m:\u001b[0m \u001b[0mtyping\u001b[0m\u001b[1;33m.\u001b[0m\u001b[0mOptional\u001b[0m\u001b[1;33m[\u001b[0m\u001b[0mstr\u001b[0m\u001b[1;33m]\u001b[0m \u001b[1;33m=\u001b[0m \u001b[1;32mNone\u001b[0m\u001b[1;33m,\u001b[0m\u001b[1;33m\u001b[0m\u001b[1;33m\u001b[0m\u001b[0m\n\u001b[0;32m    120\u001b[0m                      encoding: typing.Optional[str] = None) -> typing.Union[bytes, str]:\n\u001b[1;32m--> 121\u001b[1;33m         return self._pipe_future(format,\n\u001b[0m\u001b[0;32m    122\u001b[0m                                  \u001b[0mrenderer\u001b[0m\u001b[1;33m=\u001b[0m\u001b[0mrenderer\u001b[0m\u001b[1;33m,\u001b[0m\u001b[1;33m\u001b[0m\u001b[1;33m\u001b[0m\u001b[0m\n\u001b[0;32m    123\u001b[0m                                  \u001b[0mformatter\u001b[0m\u001b[1;33m=\u001b[0m\u001b[0mformatter\u001b[0m\u001b[1;33m,\u001b[0m\u001b[1;33m\u001b[0m\u001b[1;33m\u001b[0m\u001b[0m\n",
      "\u001b[1;32m~\\anaconda3\\lib\\site-packages\\graphviz\\piping.py\u001b[0m in \u001b[0;36m_pipe_future\u001b[1;34m(self, format, renderer, formatter, neato_no_op, quiet, engine, encoding)\u001b[0m\n\u001b[0;32m    147\u001b[0m             \u001b[1;32mif\u001b[0m \u001b[0mcodecs\u001b[0m\u001b[1;33m.\u001b[0m\u001b[0mlookup\u001b[0m\u001b[1;33m(\u001b[0m\u001b[0mencoding\u001b[0m\u001b[1;33m)\u001b[0m \u001b[1;32mis\u001b[0m \u001b[0mcodecs\u001b[0m\u001b[1;33m.\u001b[0m\u001b[0mlookup\u001b[0m\u001b[1;33m(\u001b[0m\u001b[0mself\u001b[0m\u001b[1;33m.\u001b[0m\u001b[0mencoding\u001b[0m\u001b[1;33m)\u001b[0m\u001b[1;33m:\u001b[0m\u001b[1;33m\u001b[0m\u001b[1;33m\u001b[0m\u001b[0m\n\u001b[0;32m    148\u001b[0m                 \u001b[1;31m# common case: both stdin and stdout need the same encoding\u001b[0m\u001b[1;33m\u001b[0m\u001b[1;33m\u001b[0m\u001b[0m\n\u001b[1;32m--> 149\u001b[1;33m                 \u001b[1;32mreturn\u001b[0m \u001b[0mself\u001b[0m\u001b[1;33m.\u001b[0m\u001b[0m_pipe_lines_string\u001b[0m\u001b[1;33m(\u001b[0m\u001b[1;33m*\u001b[0m\u001b[0margs\u001b[0m\u001b[1;33m,\u001b[0m \u001b[0mencoding\u001b[0m\u001b[1;33m=\u001b[0m\u001b[0mencoding\u001b[0m\u001b[1;33m,\u001b[0m \u001b[1;33m**\u001b[0m\u001b[0mkwargs\u001b[0m\u001b[1;33m)\u001b[0m\u001b[1;33m\u001b[0m\u001b[1;33m\u001b[0m\u001b[0m\n\u001b[0m\u001b[0;32m    150\u001b[0m             \u001b[1;32mtry\u001b[0m\u001b[1;33m:\u001b[0m\u001b[1;33m\u001b[0m\u001b[1;33m\u001b[0m\u001b[0m\n\u001b[0;32m    151\u001b[0m                 \u001b[0mraw\u001b[0m \u001b[1;33m=\u001b[0m \u001b[0mself\u001b[0m\u001b[1;33m.\u001b[0m\u001b[0m_pipe_lines\u001b[0m\u001b[1;33m(\u001b[0m\u001b[1;33m*\u001b[0m\u001b[0margs\u001b[0m\u001b[1;33m,\u001b[0m \u001b[0minput_encoding\u001b[0m\u001b[1;33m=\u001b[0m\u001b[0mself\u001b[0m\u001b[1;33m.\u001b[0m\u001b[0mencoding\u001b[0m\u001b[1;33m,\u001b[0m \u001b[1;33m**\u001b[0m\u001b[0mkwargs\u001b[0m\u001b[1;33m)\u001b[0m\u001b[1;33m\u001b[0m\u001b[1;33m\u001b[0m\u001b[0m\n",
      "\u001b[1;32m~\\anaconda3\\lib\\site-packages\\graphviz\\backend\\piping.py\u001b[0m in \u001b[0;36mpipe_lines_string\u001b[1;34m(engine, format, input_lines, encoding, renderer, formatter, neato_no_op, quiet)\u001b[0m\n\u001b[0;32m    210\u001b[0m     \u001b[0mkwargs\u001b[0m \u001b[1;33m=\u001b[0m \u001b[1;33m{\u001b[0m\u001b[1;34m'input_lines'\u001b[0m\u001b[1;33m:\u001b[0m \u001b[0minput_lines\u001b[0m\u001b[1;33m,\u001b[0m \u001b[1;34m'encoding'\u001b[0m\u001b[1;33m:\u001b[0m \u001b[0mencoding\u001b[0m\u001b[1;33m}\u001b[0m\u001b[1;33m\u001b[0m\u001b[1;33m\u001b[0m\u001b[0m\n\u001b[0;32m    211\u001b[0m \u001b[1;33m\u001b[0m\u001b[0m\n\u001b[1;32m--> 212\u001b[1;33m     \u001b[0mproc\u001b[0m \u001b[1;33m=\u001b[0m \u001b[0mexecute\u001b[0m\u001b[1;33m.\u001b[0m\u001b[0mrun_check\u001b[0m\u001b[1;33m(\u001b[0m\u001b[0mcmd\u001b[0m\u001b[1;33m,\u001b[0m \u001b[0mcapture_output\u001b[0m\u001b[1;33m=\u001b[0m\u001b[1;32mTrue\u001b[0m\u001b[1;33m,\u001b[0m \u001b[0mquiet\u001b[0m\u001b[1;33m=\u001b[0m\u001b[0mquiet\u001b[0m\u001b[1;33m,\u001b[0m \u001b[1;33m**\u001b[0m\u001b[0mkwargs\u001b[0m\u001b[1;33m)\u001b[0m\u001b[1;33m\u001b[0m\u001b[1;33m\u001b[0m\u001b[0m\n\u001b[0m\u001b[0;32m    213\u001b[0m     \u001b[1;32mreturn\u001b[0m \u001b[0mproc\u001b[0m\u001b[1;33m.\u001b[0m\u001b[0mstdout\u001b[0m\u001b[1;33m\u001b[0m\u001b[1;33m\u001b[0m\u001b[0m\n",
      "\u001b[1;32m~\\anaconda3\\lib\\site-packages\\graphviz\\backend\\execute.py\u001b[0m in \u001b[0;36mrun_check\u001b[1;34m(cmd, input_lines, encoding, quiet, **kwargs)\u001b[0m\n\u001b[0;32m     82\u001b[0m     \u001b[1;32mexcept\u001b[0m \u001b[0mOSError\u001b[0m \u001b[1;32mas\u001b[0m \u001b[0me\u001b[0m\u001b[1;33m:\u001b[0m\u001b[1;33m\u001b[0m\u001b[1;33m\u001b[0m\u001b[0m\n\u001b[0;32m     83\u001b[0m         \u001b[1;32mif\u001b[0m \u001b[0me\u001b[0m\u001b[1;33m.\u001b[0m\u001b[0merrno\u001b[0m \u001b[1;33m==\u001b[0m \u001b[0merrno\u001b[0m\u001b[1;33m.\u001b[0m\u001b[0mENOENT\u001b[0m\u001b[1;33m:\u001b[0m\u001b[1;33m\u001b[0m\u001b[1;33m\u001b[0m\u001b[0m\n\u001b[1;32m---> 84\u001b[1;33m             \u001b[1;32mraise\u001b[0m \u001b[0mExecutableNotFound\u001b[0m\u001b[1;33m(\u001b[0m\u001b[0mcmd\u001b[0m\u001b[1;33m)\u001b[0m \u001b[1;32mfrom\u001b[0m \u001b[0me\u001b[0m\u001b[1;33m\u001b[0m\u001b[1;33m\u001b[0m\u001b[0m\n\u001b[0m\u001b[0;32m     85\u001b[0m         \u001b[1;32mraise\u001b[0m\u001b[1;33m\u001b[0m\u001b[1;33m\u001b[0m\u001b[0m\n\u001b[0;32m     86\u001b[0m \u001b[1;33m\u001b[0m\u001b[0m\n",
      "\u001b[1;31mExecutableNotFound\u001b[0m: failed to execute WindowsPath('dot'), make sure the Graphviz executables are on your systems' PATH"
     ]
    },
    {
     "data": {
      "text/plain": [
       "<graphviz.sources.Source at 0x23e0b4fd790>"
      ]
     },
     "execution_count": 11,
     "metadata": {},
     "output_type": "execute_result"
    }
   ],
   "source": [
    "from sklearn.tree import export_graphviz\n",
    "import graphviz\n",
    "\n",
    "modelo.fit(x_azar, y_azar)\n",
    "features = x_azar.columns\n",
    "dot_data = export_graphviz(modelo, out_file = None, filled = True, rounded = True,\n",
    "                          class_names=[\"não\",\"sim\"],\n",
    "                          feature_names = features)\n",
    "graph = graphviz.Source(dot_data)\n",
    "graph"
   ]
  },
  {
   "cell_type": "code",
   "execution_count": 12,
   "metadata": {
    "colab": {
     "base_uri": "https://localhost:8080/",
     "height": 50
    },
    "colab_type": "code",
    "id": "2mZNqHhCQ7DO",
    "outputId": "e74e04e4-ddf8-442d-f530-ab40b3db04dc"
   },
   "outputs": [
    {
     "name": "stdout",
     "output_type": "stream",
     "text": [
      "Accuracy médio 77.20\n",
      "Intervalo [75.22, 79.19]\n"
     ]
    }
   ],
   "source": [
    "# GroupKFold para analisar como o modelo se comporta com novos grupos\n",
    "\n",
    "from sklearn.model_selection import GroupKFold\n",
    "\n",
    "np.random.seed(SEED)\n",
    "\n",
    "cv = GroupKFold(n_splits = 10)\n",
    "modelo = DecisionTreeClassifier(max_depth=10)\n",
    "results = cross_validate(modelo, x_azar, y_azar, cv = cv, groups = dados.modelo, return_train_score = False)\n",
    "imprime_resultados(results)"
   ]
  },
  {
   "cell_type": "markdown",
   "metadata": {
    "colab_type": "text",
    "id": "GMXJcGqWTiIp"
   },
   "source": [
    "# Explorando hiper parâmetros em uma dimensão"
   ]
  },
  {
   "cell_type": "code",
   "execution_count": 13,
   "metadata": {
    "colab": {
     "base_uri": "https://localhost:8080/",
     "height": 733
    },
    "colab_type": "code",
    "id": "xTV7Tc4aRFTF",
    "outputId": "a5d355cc-fb81-4c99-d67c-bf445de7d9fc"
   },
   "outputs": [
    {
     "name": "stdout",
     "output_type": "stream",
     "text": [
      "Arvore max_depth = 1, treino = 75.79, teste = 75.78\n",
      "Arvore max_depth = 2, treino = 75.79, teste = 75.78\n",
      "Arvore max_depth = 3, treino = 78.76, teste = 78.68\n",
      "Arvore max_depth = 4, treino = 78.79, teste = 78.66\n",
      "Arvore max_depth = 5, treino = 78.96, teste = 78.56\n",
      "Arvore max_depth = 6, treino = 79.15, teste = 78.55\n",
      "Arvore max_depth = 7, treino = 79.40, teste = 78.34\n",
      "Arvore max_depth = 8, treino = 79.85, teste = 77.94\n",
      "Arvore max_depth = 9, treino = 80.38, teste = 77.63\n",
      "Arvore max_depth = 10, treino = 81.11, teste = 77.22\n",
      "Arvore max_depth = 11, treino = 81.96, teste = 76.70\n",
      "Arvore max_depth = 12, treino = 82.90, teste = 76.51\n",
      "Arvore max_depth = 13, treino = 84.01, teste = 76.16\n",
      "Arvore max_depth = 14, treino = 85.05, teste = 75.94\n",
      "Arvore max_depth = 15, treino = 86.15, teste = 75.22\n",
      "Arvore max_depth = 16, treino = 87.23, teste = 75.05\n",
      "Arvore max_depth = 17, treino = 88.26, teste = 74.66\n",
      "Arvore max_depth = 18, treino = 89.24, teste = 74.56\n",
      "Arvore max_depth = 19, treino = 90.25, teste = 74.31\n",
      "Arvore max_depth = 20, treino = 91.19, teste = 73.90\n",
      "Arvore max_depth = 21, treino = 92.00, teste = 73.78\n",
      "Arvore max_depth = 22, treino = 92.97, teste = 73.61\n",
      "Arvore max_depth = 23, treino = 93.83, teste = 73.19\n",
      "Arvore max_depth = 24, treino = 94.59, teste = 73.07\n",
      "Arvore max_depth = 25, treino = 95.35, teste = 73.09\n",
      "Arvore max_depth = 26, treino = 95.99, teste = 73.00\n",
      "Arvore max_depth = 27, treino = 96.55, teste = 72.81\n",
      "Arvore max_depth = 28, treino = 97.10, teste = 72.69\n",
      "Arvore max_depth = 29, treino = 97.60, teste = 72.27\n",
      "Arvore max_depth = 30, treino = 97.97, teste = 72.35\n",
      "Arvore max_depth = 31, treino = 98.30, teste = 72.39\n",
      "Arvore max_depth = 32, treino = 98.54, teste = 71.98\n"
     ]
    },
    {
     "data": {
      "text/html": [
       "<div>\n",
       "<style scoped>\n",
       "    .dataframe tbody tr th:only-of-type {\n",
       "        vertical-align: middle;\n",
       "    }\n",
       "\n",
       "    .dataframe tbody tr th {\n",
       "        vertical-align: top;\n",
       "    }\n",
       "\n",
       "    .dataframe thead th {\n",
       "        text-align: right;\n",
       "    }\n",
       "</style>\n",
       "<table border=\"1\" class=\"dataframe\">\n",
       "  <thead>\n",
       "    <tr style=\"text-align: right;\">\n",
       "      <th></th>\n",
       "      <th>max_depth</th>\n",
       "      <th>train</th>\n",
       "      <th>test</th>\n",
       "    </tr>\n",
       "  </thead>\n",
       "  <tbody>\n",
       "    <tr>\n",
       "      <th>0</th>\n",
       "      <td>1</td>\n",
       "      <td>75.791115</td>\n",
       "      <td>75.780148</td>\n",
       "    </tr>\n",
       "    <tr>\n",
       "      <th>1</th>\n",
       "      <td>2</td>\n",
       "      <td>75.791115</td>\n",
       "      <td>75.780148</td>\n",
       "    </tr>\n",
       "    <tr>\n",
       "      <th>2</th>\n",
       "      <td>3</td>\n",
       "      <td>78.755567</td>\n",
       "      <td>78.681502</td>\n",
       "    </tr>\n",
       "    <tr>\n",
       "      <th>3</th>\n",
       "      <td>4</td>\n",
       "      <td>78.792212</td>\n",
       "      <td>78.661432</td>\n",
       "    </tr>\n",
       "    <tr>\n",
       "      <th>4</th>\n",
       "      <td>5</td>\n",
       "      <td>78.958858</td>\n",
       "      <td>78.560017</td>\n",
       "    </tr>\n",
       "  </tbody>\n",
       "</table>\n",
       "</div>"
      ],
      "text/plain": [
       "   max_depth      train       test\n",
       "0          1  75.791115  75.780148\n",
       "1          2  75.791115  75.780148\n",
       "2          3  78.755567  78.681502\n",
       "3          4  78.792212  78.661432\n",
       "4          5  78.958858  78.560017"
      ]
     },
     "execution_count": 13,
     "metadata": {},
     "output_type": "execute_result"
    }
   ],
   "source": [
    "def roda_arvore_de_decisao(max_depth):\n",
    "    SEED = 0\n",
    "    np.random.seed(SEED)\n",
    "\n",
    "    cv = GroupKFold(n_splits = 10)\n",
    "    modelo = DecisionTreeClassifier(max_depth=max_depth)\n",
    "    results = cross_validate(modelo, x_azar, y_azar, cv = cv, groups = dados.modelo, return_train_score=True)\n",
    "    train_score = results['train_score'].mean() * 100\n",
    "    test_score = results['test_score'].mean() * 100\n",
    "    print(\"Arvore max_depth = %d, treino = %.2f, teste = %.2f\" % (max_depth, train_score, test_score))\n",
    "    tabela = [max_depth, train_score, test_score]\n",
    "    return tabela\n",
    "  \n",
    "resultados = [roda_arvore_de_decisao(i) for i in range(1,33)]\n",
    "resultados = pd.DataFrame(resultados, columns= [\"max_depth\",\"train\",\"test\"])\n",
    "resultados.head()"
   ]
  },
  {
   "cell_type": "code",
   "execution_count": 14,
   "metadata": {
    "colab": {
     "base_uri": "https://localhost:8080/",
     "height": 301
    },
    "colab_type": "code",
    "id": "6HBLCc7QTsLt",
    "outputId": "5c14e473-e4ac-4913-8e17-89a417896d2a"
   },
   "outputs": [
    {
     "data": {
      "text/plain": [
       "<AxesSubplot:xlabel='max_depth', ylabel='train'>"
      ]
     },
     "execution_count": 14,
     "metadata": {},
     "output_type": "execute_result"
    },
    {
     "data": {
      "image/png": "[encoded data removed]",
      "text/plain": [
       "<Figure size 640x480 with 1 Axes>"
      ]
     },
     "metadata": {},
     "output_type": "display_data"
    }
   ],
   "source": [
    "import seaborn as sns\n",
    "\n",
    "sns.lineplot(x = \"max_depth\", y = \"train\", data = resultados)"
   ]
  },
  {
   "cell_type": "markdown",
   "metadata": {
    "colab_type": "text",
    "id": "j-o6VtTrXbhu"
   },
   "source": [
    "# OVERFIT: ficou \"perfeito\" para o treino mas ruim para o teste"
   ]
  },
  {
   "cell_type": "code",
   "execution_count": 15,
   "metadata": {
    "colab": {
     "base_uri": "https://localhost:8080/",
     "height": 301
    },
    "colab_type": "code",
    "id": "OhwJ_FAnWOlq",
    "outputId": "b136f667-4257-48eb-9bc5-b7f0fe53f4fb"
   },
   "outputs": [
    {
     "data": {
      "text/plain": [
       "<matplotlib.legend.Legend at 0x23e18632dc0>"
      ]
     },
     "execution_count": 15,
     "metadata": {},
     "output_type": "execute_result"
    },
    {
     "data": {
      "image/png": "[encoded data removed]",
      "text/plain": [
       "<Figure size 640x480 with 1 Axes>"
      ]
     },
     "metadata": {},
     "output_type": "display_data"
    }
   ],
   "source": [
    "import matplotlib.pyplot as plt\n",
    "\n",
    "sns.lineplot(x = \"max_depth\", y = \"train\", data = resultados)\n",
    "sns.lineplot(x = \"max_depth\", y = \"test\", data = resultados)\n",
    "plt.legend([\"Treino\", \"Teste\"])"
   ]
  },
  {
   "cell_type": "code",
   "execution_count": 16,
   "metadata": {
    "colab": {
     "base_uri": "https://localhost:8080/",
     "height": 195
    },
    "colab_type": "code",
    "id": "wXmQpoGaXXqP",
    "outputId": "40f9ea94-6de4-4dff-fff1-d8ebc7739f63"
   },
   "outputs": [
    {
     "data": {
      "text/html": [
       "<div>\n",
       "<style scoped>\n",
       "    .dataframe tbody tr th:only-of-type {\n",
       "        vertical-align: middle;\n",
       "    }\n",
       "\n",
       "    .dataframe tbody tr th {\n",
       "        vertical-align: top;\n",
       "    }\n",
       "\n",
       "    .dataframe thead th {\n",
       "        text-align: right;\n",
       "    }\n",
       "</style>\n",
       "<table border=\"1\" class=\"dataframe\">\n",
       "  <thead>\n",
       "    <tr style=\"text-align: right;\">\n",
       "      <th></th>\n",
       "      <th>max_depth</th>\n",
       "      <th>train</th>\n",
       "      <th>test</th>\n",
       "    </tr>\n",
       "  </thead>\n",
       "  <tbody>\n",
       "    <tr>\n",
       "      <th>2</th>\n",
       "      <td>3</td>\n",
       "      <td>78.755567</td>\n",
       "      <td>78.681502</td>\n",
       "    </tr>\n",
       "    <tr>\n",
       "      <th>3</th>\n",
       "      <td>4</td>\n",
       "      <td>78.792212</td>\n",
       "      <td>78.661432</td>\n",
       "    </tr>\n",
       "    <tr>\n",
       "      <th>4</th>\n",
       "      <td>5</td>\n",
       "      <td>78.958858</td>\n",
       "      <td>78.560017</td>\n",
       "    </tr>\n",
       "    <tr>\n",
       "      <th>5</th>\n",
       "      <td>6</td>\n",
       "      <td>79.146765</td>\n",
       "      <td>78.550577</td>\n",
       "    </tr>\n",
       "    <tr>\n",
       "      <th>6</th>\n",
       "      <td>7</td>\n",
       "      <td>79.404584</td>\n",
       "      <td>78.339605</td>\n",
       "    </tr>\n",
       "  </tbody>\n",
       "</table>\n",
       "</div>"
      ],
      "text/plain": [
       "   max_depth      train       test\n",
       "2          3  78.755567  78.681502\n",
       "3          4  78.792212  78.661432\n",
       "4          5  78.958858  78.560017\n",
       "5          6  79.146765  78.550577\n",
       "6          7  79.404584  78.339605"
      ]
     },
     "execution_count": 16,
     "metadata": {},
     "output_type": "execute_result"
    }
   ],
   "source": [
    "resultados.sort_values(\"test\", ascending=False).head()"
   ]
  },
  {
   "cell_type": "markdown",
   "metadata": {
    "colab_type": "text",
    "id": "SnW9-CTjcpWp"
   },
   "source": [
    "# Explorando hiper parâmetros em 2 dimensões"
   ]
  },
  {
   "cell_type": "code",
   "execution_count": 17,
   "metadata": {
    "colab": {
     "base_uri": "https://localhost:8080/",
     "height": 2346
    },
    "colab_type": "code",
    "id": "Odrf-gsWXl9u",
    "outputId": "5cd04740-d6c5-40f9-9032-21a12a3f0207"
   },
   "outputs": [
    {
     "name": "stdout",
     "output_type": "stream",
     "text": [
      "Arvore max_depth = 1, min_samples_leaf = 32, treino = 75.79, teste = 75.78\n",
      "Arvore max_depth = 1, min_samples_leaf = 64, treino = 75.79, teste = 75.78\n",
      "Arvore max_depth = 1, min_samples_leaf = 128, treino = 75.79, teste = 75.78\n",
      "Arvore max_depth = 1, min_samples_leaf = 256, treino = 75.79, teste = 75.78\n",
      "Arvore max_depth = 2, min_samples_leaf = 32, treino = 75.79, teste = 75.78\n",
      "Arvore max_depth = 2, min_samples_leaf = 64, treino = 75.79, teste = 75.78\n",
      "Arvore max_depth = 2, min_samples_leaf = 128, treino = 75.79, teste = 75.78\n",
      "Arvore max_depth = 2, min_samples_leaf = 256, treino = 75.79, teste = 75.78\n",
      "Arvore max_depth = 3, min_samples_leaf = 32, treino = 78.75, teste = 78.69\n",
      "Arvore max_depth = 3, min_samples_leaf = 64, treino = 78.75, teste = 78.69\n",
      "Arvore max_depth = 3, min_samples_leaf = 128, treino = 78.75, teste = 78.69\n",
      "Arvore max_depth = 3, min_samples_leaf = 256, treino = 78.75, teste = 78.69\n",
      "Arvore max_depth = 4, min_samples_leaf = 32, treino = 78.75, teste = 78.69\n",
      "Arvore max_depth = 4, min_samples_leaf = 64, treino = 78.75, teste = 78.69\n",
      "Arvore max_depth = 4, min_samples_leaf = 128, treino = 78.75, teste = 78.69\n",
      "Arvore max_depth = 4, min_samples_leaf = 256, treino = 78.75, teste = 78.69\n",
      "Arvore max_depth = 5, min_samples_leaf = 32, treino = 78.81, teste = 78.46\n",
      "Arvore max_depth = 5, min_samples_leaf = 64, treino = 78.79, teste = 78.55\n",
      "Arvore max_depth = 5, min_samples_leaf = 128, treino = 78.78, teste = 78.46\n",
      "Arvore max_depth = 5, min_samples_leaf = 256, treino = 78.76, teste = 78.60\n",
      "Arvore max_depth = 6, min_samples_leaf = 32, treino = 78.89, teste = 78.21\n",
      "Arvore max_depth = 6, min_samples_leaf = 64, treino = 78.84, teste = 78.25\n",
      "Arvore max_depth = 6, min_samples_leaf = 128, treino = 78.83, teste = 78.33\n",
      "Arvore max_depth = 6, min_samples_leaf = 256, treino = 78.79, teste = 78.38\n",
      "Arvore max_depth = 7, min_samples_leaf = 32, treino = 79.12, teste = 78.04\n",
      "Arvore max_depth = 7, min_samples_leaf = 64, treino = 79.04, teste = 78.22\n",
      "Arvore max_depth = 7, min_samples_leaf = 128, treino = 78.99, teste = 78.26\n",
      "Arvore max_depth = 7, min_samples_leaf = 256, treino = 78.87, teste = 78.14\n",
      "Arvore max_depth = 8, min_samples_leaf = 32, treino = 79.34, teste = 77.80\n",
      "Arvore max_depth = 8, min_samples_leaf = 64, treino = 79.17, teste = 77.89\n",
      "Arvore max_depth = 8, min_samples_leaf = 128, treino = 79.06, teste = 78.26\n",
      "Arvore max_depth = 8, min_samples_leaf = 256, treino = 78.91, teste = 78.14\n",
      "Arvore max_depth = 9, min_samples_leaf = 32, treino = 79.66, teste = 77.40\n",
      "Arvore max_depth = 9, min_samples_leaf = 64, treino = 79.44, teste = 77.63\n",
      "Arvore max_depth = 9, min_samples_leaf = 128, treino = 79.16, teste = 78.17\n",
      "Arvore max_depth = 9, min_samples_leaf = 256, treino = 78.91, teste = 78.03\n",
      "Arvore max_depth = 10, min_samples_leaf = 32, treino = 79.92, teste = 77.17\n",
      "Arvore max_depth = 10, min_samples_leaf = 64, treino = 79.55, teste = 77.42\n",
      "Arvore max_depth = 10, min_samples_leaf = 128, treino = 79.22, teste = 78.06\n",
      "Arvore max_depth = 10, min_samples_leaf = 256, treino = 78.91, teste = 78.03\n",
      "Arvore max_depth = 11, min_samples_leaf = 32, treino = 80.16, teste = 77.11\n",
      "Arvore max_depth = 11, min_samples_leaf = 64, treino = 79.59, teste = 77.43\n",
      "Arvore max_depth = 11, min_samples_leaf = 128, treino = 79.25, teste = 78.06\n",
      "Arvore max_depth = 11, min_samples_leaf = 256, treino = 78.91, teste = 78.03\n",
      "Arvore max_depth = 12, min_samples_leaf = 32, treino = 80.35, teste = 77.11\n",
      "Arvore max_depth = 12, min_samples_leaf = 64, treino = 79.68, teste = 77.59\n",
      "Arvore max_depth = 12, min_samples_leaf = 128, treino = 79.25, teste = 78.06\n",
      "Arvore max_depth = 12, min_samples_leaf = 256, treino = 78.91, teste = 78.03\n",
      "Arvore max_depth = 13, min_samples_leaf = 32, treino = 80.54, teste = 77.01\n",
      "Arvore max_depth = 13, min_samples_leaf = 64, treino = 79.74, teste = 77.50\n",
      "Arvore max_depth = 13, min_samples_leaf = 128, treino = 79.25, teste = 78.06\n",
      "Arvore max_depth = 13, min_samples_leaf = 256, treino = 78.91, teste = 78.03\n",
      "Arvore max_depth = 14, min_samples_leaf = 32, treino = 80.64, teste = 76.82\n",
      "Arvore max_depth = 14, min_samples_leaf = 64, treino = 79.78, teste = 77.47\n",
      "Arvore max_depth = 14, min_samples_leaf = 128, treino = 79.25, teste = 78.06\n",
      "Arvore max_depth = 14, min_samples_leaf = 256, treino = 78.91, teste = 78.03\n",
      "Arvore max_depth = 15, min_samples_leaf = 32, treino = 80.70, teste = 76.81\n",
      "Arvore max_depth = 15, min_samples_leaf = 64, treino = 79.78, teste = 77.47\n",
      "Arvore max_depth = 15, min_samples_leaf = 128, treino = 79.25, teste = 78.06\n",
      "Arvore max_depth = 15, min_samples_leaf = 256, treino = 78.91, teste = 78.03\n",
      "Arvore max_depth = 16, min_samples_leaf = 32, treino = 80.76, teste = 76.74\n",
      "Arvore max_depth = 16, min_samples_leaf = 64, treino = 79.78, teste = 77.47\n",
      "Arvore max_depth = 16, min_samples_leaf = 128, treino = 79.25, teste = 78.06\n",
      "Arvore max_depth = 16, min_samples_leaf = 256, treino = 78.91, teste = 78.03\n",
      "Arvore max_depth = 17, min_samples_leaf = 32, treino = 80.81, teste = 76.68\n",
      "Arvore max_depth = 17, min_samples_leaf = 64, treino = 79.78, teste = 77.47\n",
      "Arvore max_depth = 17, min_samples_leaf = 128, treino = 79.25, teste = 78.06\n",
      "Arvore max_depth = 17, min_samples_leaf = 256, treino = 78.91, teste = 78.03\n",
      "Arvore max_depth = 18, min_samples_leaf = 32, treino = 80.83, teste = 76.65\n",
      "Arvore max_depth = 18, min_samples_leaf = 64, treino = 79.78, teste = 77.47\n",
      "Arvore max_depth = 18, min_samples_leaf = 128, treino = 79.25, teste = 78.06\n",
      "Arvore max_depth = 18, min_samples_leaf = 256, treino = 78.91, teste = 78.03\n",
      "Arvore max_depth = 19, min_samples_leaf = 32, treino = 80.85, teste = 76.65\n",
      "Arvore max_depth = 19, min_samples_leaf = 64, treino = 79.78, teste = 77.47\n",
      "Arvore max_depth = 19, min_samples_leaf = 128, treino = 79.25, teste = 78.06\n",
      "Arvore max_depth = 19, min_samples_leaf = 256, treino = 78.91, teste = 78.03\n",
      "Arvore max_depth = 20, min_samples_leaf = 32, treino = 80.86, teste = 76.58\n",
      "Arvore max_depth = 20, min_samples_leaf = 64, treino = 79.78, teste = 77.47\n",
      "Arvore max_depth = 20, min_samples_leaf = 128, treino = 79.25, teste = 78.06\n",
      "Arvore max_depth = 20, min_samples_leaf = 256, treino = 78.91, teste = 78.03\n",
      "Arvore max_depth = 21, min_samples_leaf = 32, treino = 80.87, teste = 76.63\n",
      "Arvore max_depth = 21, min_samples_leaf = 64, treino = 79.78, teste = 77.47\n",
      "Arvore max_depth = 21, min_samples_leaf = 128, treino = 79.25, teste = 78.06\n",
      "Arvore max_depth = 21, min_samples_leaf = 256, treino = 78.91, teste = 78.03\n",
      "Arvore max_depth = 22, min_samples_leaf = 32, treino = 80.87, teste = 76.60\n",
      "Arvore max_depth = 22, min_samples_leaf = 64, treino = 79.78, teste = 77.47\n",
      "Arvore max_depth = 22, min_samples_leaf = 128, treino = 79.25, teste = 78.06\n",
      "Arvore max_depth = 22, min_samples_leaf = 256, treino = 78.91, teste = 78.03\n",
      "Arvore max_depth = 23, min_samples_leaf = 32, treino = 80.87, teste = 76.60\n",
      "Arvore max_depth = 23, min_samples_leaf = 64, treino = 79.78, teste = 77.47\n",
      "Arvore max_depth = 23, min_samples_leaf = 128, treino = 79.25, teste = 78.06\n",
      "Arvore max_depth = 23, min_samples_leaf = 256, treino = 78.91, teste = 78.03\n",
      "Arvore max_depth = 24, min_samples_leaf = 32, treino = 80.87, teste = 76.60\n",
      "Arvore max_depth = 24, min_samples_leaf = 64, treino = 79.78, teste = 77.47\n",
      "Arvore max_depth = 24, min_samples_leaf = 128, treino = 79.25, teste = 78.06\n",
      "Arvore max_depth = 24, min_samples_leaf = 256, treino = 78.91, teste = 78.03\n",
      "Arvore max_depth = 25, min_samples_leaf = 32, treino = 80.87, teste = 76.60\n",
      "Arvore max_depth = 25, min_samples_leaf = 64, treino = 79.78, teste = 77.47\n",
      "Arvore max_depth = 25, min_samples_leaf = 128, treino = 79.25, teste = 78.06\n",
      "Arvore max_depth = 25, min_samples_leaf = 256, treino = 78.91, teste = 78.03\n",
      "Arvore max_depth = 26, min_samples_leaf = 32, treino = 80.87, teste = 76.60\n",
      "Arvore max_depth = 26, min_samples_leaf = 64, treino = 79.78, teste = 77.47\n",
      "Arvore max_depth = 26, min_samples_leaf = 128, treino = 79.25, teste = 78.06\n",
      "Arvore max_depth = 26, min_samples_leaf = 256, treino = 78.91, teste = 78.03\n",
      "Arvore max_depth = 27, min_samples_leaf = 32, treino = 80.87, teste = 76.60\n",
      "Arvore max_depth = 27, min_samples_leaf = 64, treino = 79.78, teste = 77.47\n",
      "Arvore max_depth = 27, min_samples_leaf = 128, treino = 79.25, teste = 78.06\n",
      "Arvore max_depth = 27, min_samples_leaf = 256, treino = 78.91, teste = 78.03\n"
     ]
    },
    {
     "name": "stdout",
     "output_type": "stream",
     "text": [
      "Arvore max_depth = 28, min_samples_leaf = 32, treino = 80.87, teste = 76.60\n",
      "Arvore max_depth = 28, min_samples_leaf = 64, treino = 79.78, teste = 77.47\n",
      "Arvore max_depth = 28, min_samples_leaf = 128, treino = 79.25, teste = 78.06\n",
      "Arvore max_depth = 28, min_samples_leaf = 256, treino = 78.91, teste = 78.03\n",
      "Arvore max_depth = 29, min_samples_leaf = 32, treino = 80.87, teste = 76.60\n",
      "Arvore max_depth = 29, min_samples_leaf = 64, treino = 79.78, teste = 77.47\n",
      "Arvore max_depth = 29, min_samples_leaf = 128, treino = 79.25, teste = 78.06\n",
      "Arvore max_depth = 29, min_samples_leaf = 256, treino = 78.91, teste = 78.03\n",
      "Arvore max_depth = 30, min_samples_leaf = 32, treino = 80.87, teste = 76.60\n",
      "Arvore max_depth = 30, min_samples_leaf = 64, treino = 79.78, teste = 77.47\n",
      "Arvore max_depth = 30, min_samples_leaf = 128, treino = 79.25, teste = 78.06\n",
      "Arvore max_depth = 30, min_samples_leaf = 256, treino = 78.91, teste = 78.03\n",
      "Arvore max_depth = 31, min_samples_leaf = 32, treino = 80.87, teste = 76.60\n",
      "Arvore max_depth = 31, min_samples_leaf = 64, treino = 79.78, teste = 77.47\n",
      "Arvore max_depth = 31, min_samples_leaf = 128, treino = 79.25, teste = 78.06\n",
      "Arvore max_depth = 31, min_samples_leaf = 256, treino = 78.91, teste = 78.03\n",
      "Arvore max_depth = 32, min_samples_leaf = 32, treino = 80.87, teste = 76.60\n",
      "Arvore max_depth = 32, min_samples_leaf = 64, treino = 79.78, teste = 77.47\n",
      "Arvore max_depth = 32, min_samples_leaf = 128, treino = 79.25, teste = 78.06\n",
      "Arvore max_depth = 32, min_samples_leaf = 256, treino = 78.91, teste = 78.03\n"
     ]
    },
    {
     "data": {
      "text/html": [
       "<div>\n",
       "<style scoped>\n",
       "    .dataframe tbody tr th:only-of-type {\n",
       "        vertical-align: middle;\n",
       "    }\n",
       "\n",
       "    .dataframe tbody tr th {\n",
       "        vertical-align: top;\n",
       "    }\n",
       "\n",
       "    .dataframe thead th {\n",
       "        text-align: right;\n",
       "    }\n",
       "</style>\n",
       "<table border=\"1\" class=\"dataframe\">\n",
       "  <thead>\n",
       "    <tr style=\"text-align: right;\">\n",
       "      <th></th>\n",
       "      <th>max_depth</th>\n",
       "      <th>min_samples_leaf</th>\n",
       "      <th>train</th>\n",
       "      <th>test</th>\n",
       "    </tr>\n",
       "  </thead>\n",
       "  <tbody>\n",
       "    <tr>\n",
       "      <th>0</th>\n",
       "      <td>1</td>\n",
       "      <td>32</td>\n",
       "      <td>75.791115</td>\n",
       "      <td>75.780148</td>\n",
       "    </tr>\n",
       "    <tr>\n",
       "      <th>1</th>\n",
       "      <td>1</td>\n",
       "      <td>64</td>\n",
       "      <td>75.791115</td>\n",
       "      <td>75.780148</td>\n",
       "    </tr>\n",
       "    <tr>\n",
       "      <th>2</th>\n",
       "      <td>1</td>\n",
       "      <td>128</td>\n",
       "      <td>75.791115</td>\n",
       "      <td>75.780148</td>\n",
       "    </tr>\n",
       "    <tr>\n",
       "      <th>3</th>\n",
       "      <td>1</td>\n",
       "      <td>256</td>\n",
       "      <td>75.791115</td>\n",
       "      <td>75.780148</td>\n",
       "    </tr>\n",
       "    <tr>\n",
       "      <th>4</th>\n",
       "      <td>2</td>\n",
       "      <td>32</td>\n",
       "      <td>75.791115</td>\n",
       "      <td>75.780148</td>\n",
       "    </tr>\n",
       "  </tbody>\n",
       "</table>\n",
       "</div>"
      ],
      "text/plain": [
       "   max_depth  min_samples_leaf      train       test\n",
       "0          1                32  75.791115  75.780148\n",
       "1          1                64  75.791115  75.780148\n",
       "2          1               128  75.791115  75.780148\n",
       "3          1               256  75.791115  75.780148\n",
       "4          2                32  75.791115  75.780148"
      ]
     },
     "execution_count": 17,
     "metadata": {},
     "output_type": "execute_result"
    }
   ],
   "source": [
    "def roda_arvore_de_decisao(max_depth, min_samples_leaf):\n",
    "    SEED = 0\n",
    "    np.random.seed(SEED)\n",
    "\n",
    "    cv = GroupKFold(n_splits = 10)\n",
    "    modelo = DecisionTreeClassifier(max_depth=max_depth, min_samples_leaf = min_samples_leaf)\n",
    "    results = cross_validate(modelo, x_azar, y_azar, cv = cv, groups = dados.modelo, return_train_score=True)\n",
    "    train_score = results['train_score'].mean() * 100\n",
    "    test_score = results['test_score'].mean() * 100\n",
    "    print(\"Arvore max_depth = %d, min_samples_leaf = %d, treino = %.2f, teste = %.2f\" % (max_depth, min_samples_leaf, train_score, test_score))\n",
    "    tabela = [max_depth, min_samples_leaf, train_score, test_score]\n",
    "    return tabela\n",
    "\n",
    "def busca():\n",
    "    resultados = []\n",
    "    for max_depth in range(1,33):\n",
    "        for min_samples_leaf in [32, 64, 128, 256]:\n",
    "            tabela = roda_arvore_de_decisao(max_depth, min_samples_leaf)\n",
    "            resultados.append(tabela)\n",
    "    resultados = pd.DataFrame(resultados, columns= [\"max_depth\",\"min_samples_leaf\",\"train\",\"test\"])\n",
    "    return resultados\n",
    "\n",
    "resultados = busca()\n",
    "resultados.head()"
   ]
  },
  {
   "cell_type": "code",
   "execution_count": 18,
   "metadata": {
    "colab": {
     "base_uri": "https://localhost:8080/",
     "height": 195
    },
    "colab_type": "code",
    "id": "FEl16TSwdQgW",
    "outputId": "fc9d64cb-cdce-4f25-ffa2-682fd581513a"
   },
   "outputs": [
    {
     "data": {
      "text/html": [
       "<div>\n",
       "<style scoped>\n",
       "    .dataframe tbody tr th:only-of-type {\n",
       "        vertical-align: middle;\n",
       "    }\n",
       "\n",
       "    .dataframe tbody tr th {\n",
       "        vertical-align: top;\n",
       "    }\n",
       "\n",
       "    .dataframe thead th {\n",
       "        text-align: right;\n",
       "    }\n",
       "</style>\n",
       "<table border=\"1\" class=\"dataframe\">\n",
       "  <thead>\n",
       "    <tr style=\"text-align: right;\">\n",
       "      <th></th>\n",
       "      <th>max_depth</th>\n",
       "      <th>min_samples_leaf</th>\n",
       "      <th>train</th>\n",
       "      <th>test</th>\n",
       "    </tr>\n",
       "  </thead>\n",
       "  <tbody>\n",
       "    <tr>\n",
       "      <th>15</th>\n",
       "      <td>4</td>\n",
       "      <td>256</td>\n",
       "      <td>78.752241</td>\n",
       "      <td>78.691727</td>\n",
       "    </tr>\n",
       "    <tr>\n",
       "      <th>8</th>\n",
       "      <td>3</td>\n",
       "      <td>32</td>\n",
       "      <td>78.752241</td>\n",
       "      <td>78.691727</td>\n",
       "    </tr>\n",
       "    <tr>\n",
       "      <th>9</th>\n",
       "      <td>3</td>\n",
       "      <td>64</td>\n",
       "      <td>78.752241</td>\n",
       "      <td>78.691727</td>\n",
       "    </tr>\n",
       "    <tr>\n",
       "      <th>10</th>\n",
       "      <td>3</td>\n",
       "      <td>128</td>\n",
       "      <td>78.752241</td>\n",
       "      <td>78.691727</td>\n",
       "    </tr>\n",
       "    <tr>\n",
       "      <th>11</th>\n",
       "      <td>3</td>\n",
       "      <td>256</td>\n",
       "      <td>78.752241</td>\n",
       "      <td>78.691727</td>\n",
       "    </tr>\n",
       "  </tbody>\n",
       "</table>\n",
       "</div>"
      ],
      "text/plain": [
       "    max_depth  min_samples_leaf      train       test\n",
       "15          4               256  78.752241  78.691727\n",
       "8           3                32  78.752241  78.691727\n",
       "9           3                64  78.752241  78.691727\n",
       "10          3               128  78.752241  78.691727\n",
       "11          3               256  78.752241  78.691727"
      ]
     },
     "execution_count": 18,
     "metadata": {},
     "output_type": "execute_result"
    }
   ],
   "source": [
    "resultados.sort_values(\"test\", ascending=False).head()"
   ]
  },
  {
   "cell_type": "code",
   "execution_count": 19,
   "metadata": {
    "colab": {
     "base_uri": "https://localhost:8080/",
     "height": 166
    },
    "colab_type": "code",
    "id": "lZsBCpgRd6Yh",
    "outputId": "31685b91-cbd8-4769-c9ce-aca5ec2cde09"
   },
   "outputs": [
    {
     "data": {
      "text/html": [
       "<div>\n",
       "<style scoped>\n",
       "    .dataframe tbody tr th:only-of-type {\n",
       "        vertical-align: middle;\n",
       "    }\n",
       "\n",
       "    .dataframe tbody tr th {\n",
       "        vertical-align: top;\n",
       "    }\n",
       "\n",
       "    .dataframe thead th {\n",
       "        text-align: right;\n",
       "    }\n",
       "</style>\n",
       "<table border=\"1\" class=\"dataframe\">\n",
       "  <thead>\n",
       "    <tr style=\"text-align: right;\">\n",
       "      <th></th>\n",
       "      <th>max_depth</th>\n",
       "      <th>min_samples_leaf</th>\n",
       "      <th>train</th>\n",
       "      <th>test</th>\n",
       "    </tr>\n",
       "  </thead>\n",
       "  <tbody>\n",
       "    <tr>\n",
       "      <th>max_depth</th>\n",
       "      <td>1.000000e+00</td>\n",
       "      <td>-2.780775e-16</td>\n",
       "      <td>0.545543</td>\n",
       "      <td>-0.049232</td>\n",
       "    </tr>\n",
       "    <tr>\n",
       "      <th>min_samples_leaf</th>\n",
       "      <td>-2.780775e-16</td>\n",
       "      <td>1.000000e+00</td>\n",
       "      <td>-0.399976</td>\n",
       "      <td>0.430135</td>\n",
       "    </tr>\n",
       "    <tr>\n",
       "      <th>train</th>\n",
       "      <td>5.455431e-01</td>\n",
       "      <td>-3.999762e-01</td>\n",
       "      <td>1.000000</td>\n",
       "      <td>0.055366</td>\n",
       "    </tr>\n",
       "    <tr>\n",
       "      <th>test</th>\n",
       "      <td>-4.923236e-02</td>\n",
       "      <td>4.301355e-01</td>\n",
       "      <td>0.055366</td>\n",
       "      <td>1.000000</td>\n",
       "    </tr>\n",
       "  </tbody>\n",
       "</table>\n",
       "</div>"
      ],
      "text/plain": [
       "                     max_depth  min_samples_leaf     train      test\n",
       "max_depth         1.000000e+00     -2.780775e-16  0.545543 -0.049232\n",
       "min_samples_leaf -2.780775e-16      1.000000e+00 -0.399976  0.430135\n",
       "train             5.455431e-01     -3.999762e-01  1.000000  0.055366\n",
       "test             -4.923236e-02      4.301355e-01  0.055366  1.000000"
      ]
     },
     "execution_count": 19,
     "metadata": {},
     "output_type": "execute_result"
    }
   ],
   "source": [
    "corr = resultados.corr()\n",
    "corr"
   ]
  },
  {
   "cell_type": "code",
   "execution_count": 20,
   "metadata": {
    "colab": {
     "base_uri": "https://localhost:8080/",
     "height": 365
    },
    "colab_type": "code",
    "id": "AdxtFwmZfmck",
    "outputId": "ede38ee9-12de-45f4-b2a1-c1986982a8ce"
   },
   "outputs": [
    {
     "data": {
      "text/plain": [
       "<AxesSubplot:>"
      ]
     },
     "execution_count": 20,
     "metadata": {},
     "output_type": "execute_result"
    },
    {
     "data": {
      "image/png": "[encoded data removed]",
      "text/plain": [
       "<Figure size 640x480 with 2 Axes>"
      ]
     },
     "metadata": {},
     "output_type": "display_data"
    }
   ],
   "source": [
    "sns.heatmap(corr)"
   ]
  },
  {
   "cell_type": "code",
   "execution_count": 21,
   "metadata": {
    "colab": {
     "base_uri": "https://localhost:8080/",
     "height": 845
    },
    "colab_type": "code",
    "id": "UWQaVyE-gKHI",
    "outputId": "5d2fefbe-e789-478f-c464-1f564a09ebc6"
   },
   "outputs": [
    {
     "data": {
      "text/plain": [
       "array([[<AxesSubplot:xlabel='max_depth', ylabel='max_depth'>,\n",
       "        <AxesSubplot:xlabel='min_samples_leaf', ylabel='max_depth'>,\n",
       "        <AxesSubplot:xlabel='train', ylabel='max_depth'>,\n",
       "        <AxesSubplot:xlabel='test', ylabel='max_depth'>],\n",
       "       [<AxesSubplot:xlabel='max_depth', ylabel='min_samples_leaf'>,\n",
       "        <AxesSubplot:xlabel='min_samples_leaf', ylabel='min_samples_leaf'>,\n",
       "        <AxesSubplot:xlabel='train', ylabel='min_samples_leaf'>,\n",
       "        <AxesSubplot:xlabel='test', ylabel='min_samples_leaf'>],\n",
       "       [<AxesSubplot:xlabel='max_depth', ylabel='train'>,\n",
       "        <AxesSubplot:xlabel='min_samples_leaf', ylabel='train'>,\n",
       "        <AxesSubplot:xlabel='train', ylabel='train'>,\n",
       "        <AxesSubplot:xlabel='test', ylabel='train'>],\n",
       "       [<AxesSubplot:xlabel='max_depth', ylabel='test'>,\n",
       "        <AxesSubplot:xlabel='min_samples_leaf', ylabel='test'>,\n",
       "        <AxesSubplot:xlabel='train', ylabel='test'>,\n",
       "        <AxesSubplot:xlabel='test', ylabel='test'>]], dtype=object)"
      ]
     },
     "execution_count": 21,
     "metadata": {},
     "output_type": "execute_result"
    },
    {
     "data": {
      "image/png": "[encoded data removed]",
      "text/plain": [
       "<Figure size 1400x800 with 16 Axes>"
      ]
     },
     "metadata": {},
     "output_type": "display_data"
    }
   ],
   "source": [
    "pd.plotting.scatter_matrix(resultados, figsize = (14, 8), alpha = 0.3)"
   ]
  },
  {
   "cell_type": "code",
   "execution_count": 22,
   "metadata": {
    "colab": {
     "base_uri": "https://localhost:8080/",
     "height": 746
    },
    "colab_type": "code",
    "id": "AcQnhOM3gnJ-",
    "outputId": "87f86d66-792a-4b17-fc84-993c75582a8d"
   },
   "outputs": [
    {
     "data": {
      "text/plain": [
       "<seaborn.axisgrid.PairGrid at 0x23e1919c130>"
      ]
     },
     "execution_count": 22,
     "metadata": {},
     "output_type": "execute_result"
    },
    {
     "data": {
      "image/png": "[encoded data removed]",
      "text/plain": [
       "<Figure size 1000x1000 with 20 Axes>"
      ]
     },
     "metadata": {},
     "output_type": "display_data"
    }
   ],
   "source": [
    "sns.pairplot(resultados)"
   ]
  },
  {
   "cell_type": "code",
   "execution_count": 23,
   "metadata": {
    "colab": {
     "base_uri": "https://localhost:8080/",
     "height": 564
    },
    "colab_type": "code",
    "id": "sH5F3Gd8hAFG",
    "outputId": "bc6efbdc-f2f3-4ee5-9b96-6479fd8ad923"
   },
   "outputs": [
    {
     "name": "stderr",
     "output_type": "stream",
     "text": [
      "C:\\Users\\Micaeld\\AppData\\Local\\Temp\\ipykernel_5996\\1569857682.py:4: DeprecationWarning: `np.bool` is a deprecated alias for the builtin `bool`. To silence this warning, use `bool` by itself. Doing this will not modify any behavior and is safe. If you specifically wanted the numpy scalar type, use `np.bool_` here.\n",
      "Deprecated in NumPy 1.20; for more details and guidance: https://numpy.org/devdocs/release/1.20.0-notes.html#deprecations\n",
      "  mask = np.zeros_like(corr, dtype=np.bool)\n"
     ]
    },
    {
     "data": {
      "text/plain": [
       "<AxesSubplot:>"
      ]
     },
     "execution_count": 23,
     "metadata": {},
     "output_type": "execute_result"
    },
    {
     "data": {
      "image/png": "[encoded data removed]",
      "text/plain": [
       "<Figure size 1100x900 with 2 Axes>"
      ]
     },
     "metadata": {},
     "output_type": "display_data"
    }
   ],
   "source": [
    "sns.set(style=\"white\")\n",
    "\n",
    "mask = np.zeros_like(corr, dtype=np.bool)\n",
    "mask[np.triu_indices_from(mask)] = True\n",
    "\n",
    "f, ax = plt.subplots(figsize = (11, 9))\n",
    "\n",
    "cmap = sns.diverging_palette(220, 10, as_cmap=True)\n",
    "\n",
    "sns.heatmap(corr, mask = mask, cmap = cmap, vmax = .3, center = 0,\n",
    "            square = True, linewidths = .5, cbar_kws = {\"shrink\": .5})"
   ]
  },
  {
   "cell_type": "code",
   "execution_count": 24,
   "metadata": {
    "colab": {
     "base_uri": "https://localhost:8080/",
     "height": 2346
    },
    "colab_type": "code",
    "id": "fa3AUdNZiBEs",
    "outputId": "ca88efaa-d4e9-4494-85c0-46d404436308"
   },
   "outputs": [
    {
     "name": "stdout",
     "output_type": "stream",
     "text": [
      "Arvore max_depth = 1, min_samples_leaf = 128, treino = 75.79, teste = 75.78\n",
      "Arvore max_depth = 1, min_samples_leaf = 192, treino = 75.79, teste = 75.78\n",
      "Arvore max_depth = 1, min_samples_leaf = 256, treino = 75.79, teste = 75.78\n",
      "Arvore max_depth = 1, min_samples_leaf = 512, treino = 75.79, teste = 75.78\n",
      "Arvore max_depth = 2, min_samples_leaf = 128, treino = 75.79, teste = 75.78\n",
      "Arvore max_depth = 2, min_samples_leaf = 192, treino = 75.79, teste = 75.78\n",
      "Arvore max_depth = 2, min_samples_leaf = 256, treino = 75.79, teste = 75.78\n",
      "Arvore max_depth = 2, min_samples_leaf = 512, treino = 75.79, teste = 75.78\n",
      "Arvore max_depth = 3, min_samples_leaf = 128, treino = 78.75, teste = 78.69\n",
      "Arvore max_depth = 3, min_samples_leaf = 192, treino = 78.75, teste = 78.69\n",
      "Arvore max_depth = 3, min_samples_leaf = 256, treino = 78.75, teste = 78.69\n",
      "Arvore max_depth = 3, min_samples_leaf = 512, treino = 77.52, teste = 77.52\n",
      "Arvore max_depth = 4, min_samples_leaf = 128, treino = 78.75, teste = 78.69\n",
      "Arvore max_depth = 4, min_samples_leaf = 192, treino = 78.75, teste = 78.69\n",
      "Arvore max_depth = 4, min_samples_leaf = 256, treino = 78.75, teste = 78.69\n",
      "Arvore max_depth = 4, min_samples_leaf = 512, treino = 77.52, teste = 77.52\n",
      "Arvore max_depth = 5, min_samples_leaf = 128, treino = 78.78, teste = 78.46\n",
      "Arvore max_depth = 5, min_samples_leaf = 192, treino = 78.76, teste = 78.44\n",
      "Arvore max_depth = 5, min_samples_leaf = 256, treino = 78.76, teste = 78.60\n",
      "Arvore max_depth = 5, min_samples_leaf = 512, treino = 77.52, teste = 77.52\n",
      "Arvore max_depth = 6, min_samples_leaf = 128, treino = 78.83, teste = 78.33\n",
      "Arvore max_depth = 6, min_samples_leaf = 192, treino = 78.79, teste = 78.35\n",
      "Arvore max_depth = 6, min_samples_leaf = 256, treino = 78.79, teste = 78.38\n",
      "Arvore max_depth = 6, min_samples_leaf = 512, treino = 77.52, teste = 77.52\n",
      "Arvore max_depth = 7, min_samples_leaf = 128, treino = 78.99, teste = 78.26\n",
      "Arvore max_depth = 7, min_samples_leaf = 192, treino = 78.91, teste = 78.19\n",
      "Arvore max_depth = 7, min_samples_leaf = 256, treino = 78.87, teste = 78.14\n",
      "Arvore max_depth = 7, min_samples_leaf = 512, treino = 77.52, teste = 77.52\n",
      "Arvore max_depth = 8, min_samples_leaf = 128, treino = 79.06, teste = 78.26\n",
      "Arvore max_depth = 8, min_samples_leaf = 192, treino = 78.95, teste = 78.04\n",
      "Arvore max_depth = 8, min_samples_leaf = 256, treino = 78.91, teste = 78.14\n",
      "Arvore max_depth = 8, min_samples_leaf = 512, treino = 77.52, teste = 77.52\n",
      "Arvore max_depth = 9, min_samples_leaf = 128, treino = 79.16, teste = 78.17\n",
      "Arvore max_depth = 9, min_samples_leaf = 192, treino = 79.00, teste = 77.88\n",
      "Arvore max_depth = 9, min_samples_leaf = 256, treino = 78.91, teste = 78.03\n",
      "Arvore max_depth = 9, min_samples_leaf = 512, treino = 77.52, teste = 77.52\n",
      "Arvore max_depth = 10, min_samples_leaf = 128, treino = 79.22, teste = 78.06\n",
      "Arvore max_depth = 10, min_samples_leaf = 192, treino = 79.02, teste = 77.87\n",
      "Arvore max_depth = 10, min_samples_leaf = 256, treino = 78.91, teste = 78.03\n",
      "Arvore max_depth = 10, min_samples_leaf = 512, treino = 77.52, teste = 77.52\n",
      "Arvore max_depth = 11, min_samples_leaf = 128, treino = 79.25, teste = 78.06\n",
      "Arvore max_depth = 11, min_samples_leaf = 192, treino = 79.02, teste = 77.87\n",
      "Arvore max_depth = 11, min_samples_leaf = 256, treino = 78.91, teste = 78.03\n",
      "Arvore max_depth = 11, min_samples_leaf = 512, treino = 77.52, teste = 77.52\n",
      "Arvore max_depth = 12, min_samples_leaf = 128, treino = 79.25, teste = 78.06\n",
      "Arvore max_depth = 12, min_samples_leaf = 192, treino = 79.02, teste = 77.87\n",
      "Arvore max_depth = 12, min_samples_leaf = 256, treino = 78.91, teste = 78.03\n",
      "Arvore max_depth = 12, min_samples_leaf = 512, treino = 77.52, teste = 77.52\n",
      "Arvore max_depth = 13, min_samples_leaf = 128, treino = 79.25, teste = 78.06\n",
      "Arvore max_depth = 13, min_samples_leaf = 192, treino = 79.02, teste = 77.87\n",
      "Arvore max_depth = 13, min_samples_leaf = 256, treino = 78.91, teste = 78.03\n",
      "Arvore max_depth = 13, min_samples_leaf = 512, treino = 77.52, teste = 77.52\n",
      "Arvore max_depth = 14, min_samples_leaf = 128, treino = 79.25, teste = 78.06\n",
      "Arvore max_depth = 14, min_samples_leaf = 192, treino = 79.02, teste = 77.87\n",
      "Arvore max_depth = 14, min_samples_leaf = 256, treino = 78.91, teste = 78.03\n",
      "Arvore max_depth = 14, min_samples_leaf = 512, treino = 77.52, teste = 77.52\n",
      "Arvore max_depth = 15, min_samples_leaf = 128, treino = 79.25, teste = 78.06\n",
      "Arvore max_depth = 15, min_samples_leaf = 192, treino = 79.02, teste = 77.87\n",
      "Arvore max_depth = 15, min_samples_leaf = 256, treino = 78.91, teste = 78.03\n",
      "Arvore max_depth = 15, min_samples_leaf = 512, treino = 77.52, teste = 77.52\n",
      "Arvore max_depth = 16, min_samples_leaf = 128, treino = 79.25, teste = 78.06\n",
      "Arvore max_depth = 16, min_samples_leaf = 192, treino = 79.02, teste = 77.87\n",
      "Arvore max_depth = 16, min_samples_leaf = 256, treino = 78.91, teste = 78.03\n",
      "Arvore max_depth = 16, min_samples_leaf = 512, treino = 77.52, teste = 77.52\n",
      "Arvore max_depth = 17, min_samples_leaf = 128, treino = 79.25, teste = 78.06\n",
      "Arvore max_depth = 17, min_samples_leaf = 192, treino = 79.02, teste = 77.87\n",
      "Arvore max_depth = 17, min_samples_leaf = 256, treino = 78.91, teste = 78.03\n",
      "Arvore max_depth = 17, min_samples_leaf = 512, treino = 77.52, teste = 77.52\n",
      "Arvore max_depth = 18, min_samples_leaf = 128, treino = 79.25, teste = 78.06\n",
      "Arvore max_depth = 18, min_samples_leaf = 192, treino = 79.02, teste = 77.87\n",
      "Arvore max_depth = 18, min_samples_leaf = 256, treino = 78.91, teste = 78.03\n",
      "Arvore max_depth = 18, min_samples_leaf = 512, treino = 77.52, teste = 77.52\n",
      "Arvore max_depth = 19, min_samples_leaf = 128, treino = 79.25, teste = 78.06\n",
      "Arvore max_depth = 19, min_samples_leaf = 192, treino = 79.02, teste = 77.87\n",
      "Arvore max_depth = 19, min_samples_leaf = 256, treino = 78.91, teste = 78.03\n",
      "Arvore max_depth = 19, min_samples_leaf = 512, treino = 77.52, teste = 77.52\n",
      "Arvore max_depth = 20, min_samples_leaf = 128, treino = 79.25, teste = 78.06\n",
      "Arvore max_depth = 20, min_samples_leaf = 192, treino = 79.02, teste = 77.87\n",
      "Arvore max_depth = 20, min_samples_leaf = 256, treino = 78.91, teste = 78.03\n",
      "Arvore max_depth = 20, min_samples_leaf = 512, treino = 77.52, teste = 77.52\n",
      "Arvore max_depth = 21, min_samples_leaf = 128, treino = 79.25, teste = 78.06\n",
      "Arvore max_depth = 21, min_samples_leaf = 192, treino = 79.02, teste = 77.87\n",
      "Arvore max_depth = 21, min_samples_leaf = 256, treino = 78.91, teste = 78.03\n",
      "Arvore max_depth = 21, min_samples_leaf = 512, treino = 77.52, teste = 77.52\n",
      "Arvore max_depth = 22, min_samples_leaf = 128, treino = 79.25, teste = 78.06\n",
      "Arvore max_depth = 22, min_samples_leaf = 192, treino = 79.02, teste = 77.87\n",
      "Arvore max_depth = 22, min_samples_leaf = 256, treino = 78.91, teste = 78.03\n",
      "Arvore max_depth = 22, min_samples_leaf = 512, treino = 77.52, teste = 77.52\n",
      "Arvore max_depth = 23, min_samples_leaf = 128, treino = 79.25, teste = 78.06\n",
      "Arvore max_depth = 23, min_samples_leaf = 192, treino = 79.02, teste = 77.87\n",
      "Arvore max_depth = 23, min_samples_leaf = 256, treino = 78.91, teste = 78.03\n",
      "Arvore max_depth = 23, min_samples_leaf = 512, treino = 77.52, teste = 77.52\n",
      "Arvore max_depth = 24, min_samples_leaf = 128, treino = 79.25, teste = 78.06\n",
      "Arvore max_depth = 24, min_samples_leaf = 192, treino = 79.02, teste = 77.87\n",
      "Arvore max_depth = 24, min_samples_leaf = 256, treino = 78.91, teste = 78.03\n",
      "Arvore max_depth = 24, min_samples_leaf = 512, treino = 77.52, teste = 77.52\n",
      "Arvore max_depth = 25, min_samples_leaf = 128, treino = 79.25, teste = 78.06\n",
      "Arvore max_depth = 25, min_samples_leaf = 192, treino = 79.02, teste = 77.87\n",
      "Arvore max_depth = 25, min_samples_leaf = 256, treino = 78.91, teste = 78.03\n",
      "Arvore max_depth = 25, min_samples_leaf = 512, treino = 77.52, teste = 77.52\n",
      "Arvore max_depth = 26, min_samples_leaf = 128, treino = 79.25, teste = 78.06\n",
      "Arvore max_depth = 26, min_samples_leaf = 192, treino = 79.02, teste = 77.87\n",
      "Arvore max_depth = 26, min_samples_leaf = 256, treino = 78.91, teste = 78.03\n",
      "Arvore max_depth = 26, min_samples_leaf = 512, treino = 77.52, teste = 77.52\n",
      "Arvore max_depth = 27, min_samples_leaf = 128, treino = 79.25, teste = 78.06\n",
      "Arvore max_depth = 27, min_samples_leaf = 192, treino = 79.02, teste = 77.87\n",
      "Arvore max_depth = 27, min_samples_leaf = 256, treino = 78.91, teste = 78.03\n",
      "Arvore max_depth = 27, min_samples_leaf = 512, treino = 77.52, teste = 77.52\n"
     ]
    },
    {
     "name": "stdout",
     "output_type": "stream",
     "text": [
      "Arvore max_depth = 28, min_samples_leaf = 128, treino = 79.25, teste = 78.06\n",
      "Arvore max_depth = 28, min_samples_leaf = 192, treino = 79.02, teste = 77.87\n",
      "Arvore max_depth = 28, min_samples_leaf = 256, treino = 78.91, teste = 78.03\n",
      "Arvore max_depth = 28, min_samples_leaf = 512, treino = 77.52, teste = 77.52\n",
      "Arvore max_depth = 29, min_samples_leaf = 128, treino = 79.25, teste = 78.06\n",
      "Arvore max_depth = 29, min_samples_leaf = 192, treino = 79.02, teste = 77.87\n",
      "Arvore max_depth = 29, min_samples_leaf = 256, treino = 78.91, teste = 78.03\n",
      "Arvore max_depth = 29, min_samples_leaf = 512, treino = 77.52, teste = 77.52\n",
      "Arvore max_depth = 30, min_samples_leaf = 128, treino = 79.25, teste = 78.06\n",
      "Arvore max_depth = 30, min_samples_leaf = 192, treino = 79.02, teste = 77.87\n",
      "Arvore max_depth = 30, min_samples_leaf = 256, treino = 78.91, teste = 78.03\n",
      "Arvore max_depth = 30, min_samples_leaf = 512, treino = 77.52, teste = 77.52\n",
      "Arvore max_depth = 31, min_samples_leaf = 128, treino = 79.25, teste = 78.06\n",
      "Arvore max_depth = 31, min_samples_leaf = 192, treino = 79.02, teste = 77.87\n",
      "Arvore max_depth = 31, min_samples_leaf = 256, treino = 78.91, teste = 78.03\n",
      "Arvore max_depth = 31, min_samples_leaf = 512, treino = 77.52, teste = 77.52\n",
      "Arvore max_depth = 32, min_samples_leaf = 128, treino = 79.25, teste = 78.06\n",
      "Arvore max_depth = 32, min_samples_leaf = 192, treino = 79.02, teste = 77.87\n",
      "Arvore max_depth = 32, min_samples_leaf = 256, treino = 78.91, teste = 78.03\n",
      "Arvore max_depth = 32, min_samples_leaf = 512, treino = 77.52, teste = 77.52\n"
     ]
    },
    {
     "data": {
      "text/html": [
       "<div>\n",
       "<style scoped>\n",
       "    .dataframe tbody tr th:only-of-type {\n",
       "        vertical-align: middle;\n",
       "    }\n",
       "\n",
       "    .dataframe tbody tr th {\n",
       "        vertical-align: top;\n",
       "    }\n",
       "\n",
       "    .dataframe thead th {\n",
       "        text-align: right;\n",
       "    }\n",
       "</style>\n",
       "<table border=\"1\" class=\"dataframe\">\n",
       "  <thead>\n",
       "    <tr style=\"text-align: right;\">\n",
       "      <th></th>\n",
       "      <th>max_depth</th>\n",
       "      <th>min_samples_leaf</th>\n",
       "      <th>train</th>\n",
       "      <th>test</th>\n",
       "    </tr>\n",
       "  </thead>\n",
       "  <tbody>\n",
       "    <tr>\n",
       "      <th>0</th>\n",
       "      <td>1</td>\n",
       "      <td>128</td>\n",
       "      <td>75.791115</td>\n",
       "      <td>75.780148</td>\n",
       "    </tr>\n",
       "    <tr>\n",
       "      <th>1</th>\n",
       "      <td>1</td>\n",
       "      <td>192</td>\n",
       "      <td>75.791115</td>\n",
       "      <td>75.780148</td>\n",
       "    </tr>\n",
       "    <tr>\n",
       "      <th>2</th>\n",
       "      <td>1</td>\n",
       "      <td>256</td>\n",
       "      <td>75.791115</td>\n",
       "      <td>75.780148</td>\n",
       "    </tr>\n",
       "    <tr>\n",
       "      <th>3</th>\n",
       "      <td>1</td>\n",
       "      <td>512</td>\n",
       "      <td>75.791115</td>\n",
       "      <td>75.780148</td>\n",
       "    </tr>\n",
       "    <tr>\n",
       "      <th>4</th>\n",
       "      <td>2</td>\n",
       "      <td>128</td>\n",
       "      <td>75.791115</td>\n",
       "      <td>75.780148</td>\n",
       "    </tr>\n",
       "  </tbody>\n",
       "</table>\n",
       "</div>"
      ],
      "text/plain": [
       "   max_depth  min_samples_leaf      train       test\n",
       "0          1               128  75.791115  75.780148\n",
       "1          1               192  75.791115  75.780148\n",
       "2          1               256  75.791115  75.780148\n",
       "3          1               512  75.791115  75.780148\n",
       "4          2               128  75.791115  75.780148"
      ]
     },
     "execution_count": 24,
     "metadata": {},
     "output_type": "execute_result"
    }
   ],
   "source": [
    "def busca():\n",
    "    resultados = []\n",
    "    for max_depth in range(1,33):\n",
    "        for min_samples_leaf in [128, 192, 256, 512]:\n",
    "            tabela = roda_arvore_de_decisao(max_depth, min_samples_leaf)\n",
    "            resultados.append(tabela)\n",
    "    resultados = pd.DataFrame(resultados, columns= [\"max_depth\",\"min_samples_leaf\",\"train\",\"test\"])\n",
    "    return resultados\n",
    "\n",
    "resultados = busca()\n",
    "resultados.head()"
   ]
  },
  {
   "cell_type": "code",
   "execution_count": 25,
   "metadata": {
    "colab": {},
    "colab_type": "code",
    "id": "GLMt71GYii3A"
   },
   "outputs": [],
   "source": [
    "corr = resultados.corr()"
   ]
  },
  {
   "cell_type": "code",
   "execution_count": 26,
   "metadata": {
    "colab": {
     "base_uri": "https://localhost:8080/",
     "height": 564
    },
    "colab_type": "code",
    "id": "3XjB5-HyinEM",
    "outputId": "9a52e183-ddad-426a-c25f-894f9fa421df"
   },
   "outputs": [
    {
     "name": "stderr",
     "output_type": "stream",
     "text": [
      "C:\\Users\\Micaeld\\AppData\\Local\\Temp\\ipykernel_5996\\1569857682.py:4: DeprecationWarning: `np.bool` is a deprecated alias for the builtin `bool`. To silence this warning, use `bool` by itself. Doing this will not modify any behavior and is safe. If you specifically wanted the numpy scalar type, use `np.bool_` here.\n",
      "Deprecated in NumPy 1.20; for more details and guidance: https://numpy.org/devdocs/release/1.20.0-notes.html#deprecations\n",
      "  mask = np.zeros_like(corr, dtype=np.bool)\n"
     ]
    },
    {
     "data": {
      "text/plain": [
       "<AxesSubplot:>"
      ]
     },
     "execution_count": 26,
     "metadata": {},
     "output_type": "execute_result"
    },
    {
     "data": {
      "image/png": "[encoded data removed]",
      "text/plain": [
       "<Figure size 1100x900 with 2 Axes>"
      ]
     },
     "metadata": {},
     "output_type": "display_data"
    }
   ],
   "source": [
    "sns.set(style=\"white\")\n",
    "\n",
    "mask = np.zeros_like(corr, dtype=np.bool)\n",
    "mask[np.triu_indices_from(mask)] = True\n",
    "\n",
    "f, ax = plt.subplots(figsize=(11, 9))\n",
    "\n",
    "cmap = sns.diverging_palette(220, 10, as_cmap=True)\n",
    "\n",
    "sns.heatmap(corr, mask=mask, cmap=cmap, vmax=.3, center=0,\n",
    "            square=True, linewidths=.5, cbar_kws={\"shrink\": .5})"
   ]
  },
  {
   "cell_type": "code",
   "execution_count": 27,
   "metadata": {
    "colab": {
     "base_uri": "https://localhost:8080/",
     "height": 195
    },
    "colab_type": "code",
    "id": "7_yHHDkEiqCC",
    "outputId": "5569f2aa-acf9-4a40-89f0-45e56ed70a21"
   },
   "outputs": [
    {
     "data": {
      "text/html": [
       "<div>\n",
       "<style scoped>\n",
       "    .dataframe tbody tr th:only-of-type {\n",
       "        vertical-align: middle;\n",
       "    }\n",
       "\n",
       "    .dataframe tbody tr th {\n",
       "        vertical-align: top;\n",
       "    }\n",
       "\n",
       "    .dataframe thead th {\n",
       "        text-align: right;\n",
       "    }\n",
       "</style>\n",
       "<table border=\"1\" class=\"dataframe\">\n",
       "  <thead>\n",
       "    <tr style=\"text-align: right;\">\n",
       "      <th></th>\n",
       "      <th>max_depth</th>\n",
       "      <th>min_samples_leaf</th>\n",
       "      <th>train</th>\n",
       "      <th>test</th>\n",
       "    </tr>\n",
       "  </thead>\n",
       "  <tbody>\n",
       "    <tr>\n",
       "      <th>9</th>\n",
       "      <td>3</td>\n",
       "      <td>192</td>\n",
       "      <td>78.752241</td>\n",
       "      <td>78.691727</td>\n",
       "    </tr>\n",
       "    <tr>\n",
       "      <th>14</th>\n",
       "      <td>4</td>\n",
       "      <td>256</td>\n",
       "      <td>78.752241</td>\n",
       "      <td>78.691727</td>\n",
       "    </tr>\n",
       "    <tr>\n",
       "      <th>13</th>\n",
       "      <td>4</td>\n",
       "      <td>192</td>\n",
       "      <td>78.752241</td>\n",
       "      <td>78.691727</td>\n",
       "    </tr>\n",
       "    <tr>\n",
       "      <th>12</th>\n",
       "      <td>4</td>\n",
       "      <td>128</td>\n",
       "      <td>78.752241</td>\n",
       "      <td>78.691727</td>\n",
       "    </tr>\n",
       "    <tr>\n",
       "      <th>10</th>\n",
       "      <td>3</td>\n",
       "      <td>256</td>\n",
       "      <td>78.752241</td>\n",
       "      <td>78.691727</td>\n",
       "    </tr>\n",
       "  </tbody>\n",
       "</table>\n",
       "</div>"
      ],
      "text/plain": [
       "    max_depth  min_samples_leaf      train       test\n",
       "9           3               192  78.752241  78.691727\n",
       "14          4               256  78.752241  78.691727\n",
       "13          4               192  78.752241  78.691727\n",
       "12          4               128  78.752241  78.691727\n",
       "10          3               256  78.752241  78.691727"
      ]
     },
     "execution_count": 27,
     "metadata": {},
     "output_type": "execute_result"
    }
   ],
   "source": [
    "resultados.sort_values(\"test\", ascending=False).head()"
   ]
  },
  {
   "cell_type": "markdown",
   "metadata": {
    "colab_type": "text",
    "id": "pwwC1wHakOvC"
   },
   "source": [
    "# Explorando 3 dimensões de hiper parâmetros"
   ]
  },
  {
   "cell_type": "code",
   "execution_count": 28,
   "metadata": {
    "colab": {
     "base_uri": "https://localhost:8080/",
     "height": 195
    },
    "colab_type": "code",
    "id": "jlCg0np0kSsa",
    "outputId": "c4b1c47c-ba31-49a3-a68f-40804b2df126"
   },
   "outputs": [
    {
     "data": {
      "text/html": [
       "<div>\n",
       "<style scoped>\n",
       "    .dataframe tbody tr th:only-of-type {\n",
       "        vertical-align: middle;\n",
       "    }\n",
       "\n",
       "    .dataframe tbody tr th {\n",
       "        vertical-align: top;\n",
       "    }\n",
       "\n",
       "    .dataframe thead th {\n",
       "        text-align: right;\n",
       "    }\n",
       "</style>\n",
       "<table border=\"1\" class=\"dataframe\">\n",
       "  <thead>\n",
       "    <tr style=\"text-align: right;\">\n",
       "      <th></th>\n",
       "      <th>max_depth</th>\n",
       "      <th>min_samples_leaf</th>\n",
       "      <th>min_samples_split</th>\n",
       "      <th>train</th>\n",
       "      <th>test</th>\n",
       "      <th>fit_time</th>\n",
       "      <th>score_time</th>\n",
       "    </tr>\n",
       "  </thead>\n",
       "  <tbody>\n",
       "    <tr>\n",
       "      <th>0</th>\n",
       "      <td>1</td>\n",
       "      <td>32</td>\n",
       "      <td>32</td>\n",
       "      <td>75.791115</td>\n",
       "      <td>75.780148</td>\n",
       "      <td>0.005396</td>\n",
       "      <td>0.001699</td>\n",
       "    </tr>\n",
       "    <tr>\n",
       "      <th>1</th>\n",
       "      <td>1</td>\n",
       "      <td>32</td>\n",
       "      <td>64</td>\n",
       "      <td>75.791115</td>\n",
       "      <td>75.780148</td>\n",
       "      <td>0.004799</td>\n",
       "      <td>0.001501</td>\n",
       "    </tr>\n",
       "    <tr>\n",
       "      <th>2</th>\n",
       "      <td>1</td>\n",
       "      <td>32</td>\n",
       "      <td>128</td>\n",
       "      <td>75.791115</td>\n",
       "      <td>75.780148</td>\n",
       "      <td>0.005896</td>\n",
       "      <td>0.001998</td>\n",
       "    </tr>\n",
       "    <tr>\n",
       "      <th>3</th>\n",
       "      <td>1</td>\n",
       "      <td>32</td>\n",
       "      <td>256</td>\n",
       "      <td>75.791115</td>\n",
       "      <td>75.780148</td>\n",
       "      <td>0.004798</td>\n",
       "      <td>0.001601</td>\n",
       "    </tr>\n",
       "    <tr>\n",
       "      <th>4</th>\n",
       "      <td>1</td>\n",
       "      <td>64</td>\n",
       "      <td>32</td>\n",
       "      <td>75.791115</td>\n",
       "      <td>75.780148</td>\n",
       "      <td>0.005596</td>\n",
       "      <td>0.001668</td>\n",
       "    </tr>\n",
       "  </tbody>\n",
       "</table>\n",
       "</div>"
      ],
      "text/plain": [
       "   max_depth  min_samples_leaf  min_samples_split      train       test  \\\n",
       "0          1                32                 32  75.791115  75.780148   \n",
       "1          1                32                 64  75.791115  75.780148   \n",
       "2          1                32                128  75.791115  75.780148   \n",
       "3          1                32                256  75.791115  75.780148   \n",
       "4          1                64                 32  75.791115  75.780148   \n",
       "\n",
       "   fit_time  score_time  \n",
       "0  0.005396    0.001699  \n",
       "1  0.004799    0.001501  \n",
       "2  0.005896    0.001998  \n",
       "3  0.004798    0.001601  \n",
       "4  0.005596    0.001668  "
      ]
     },
     "execution_count": 28,
     "metadata": {},
     "output_type": "execute_result"
    }
   ],
   "source": [
    "def roda_arvore_de_decisao(max_depth, min_samples_leaf, min_samples_split):\n",
    "    SEED = 0\n",
    "    np.random.seed(SEED)\n",
    "\n",
    "    cv = GroupKFold(n_splits = 10)\n",
    "    modelo = DecisionTreeClassifier(max_depth = max_depth, min_samples_leaf = min_samples_leaf, min_samples_split = min_samples_split)\n",
    "    results = cross_validate(modelo, x_azar, y_azar, cv = cv, groups = dados.modelo, return_train_score=True)\n",
    "    fit_time = results['fit_time'].mean()\n",
    "    score_time = results['score_time'].mean()\n",
    "    train_score = results['train_score'].mean() * 100\n",
    "    test_score = results['test_score'].mean() * 100\n",
    "    tabela = [max_depth, min_samples_leaf, min_samples_split, train_score, test_score, fit_time, score_time]\n",
    "    return tabela\n",
    "\n",
    "def busca():\n",
    "    resultados = []\n",
    "    for max_depth in range(1,33):\n",
    "        for min_samples_leaf in [32, 64, 128, 256]:\n",
    "            for min_samples_split in [32, 64, 128, 256]:\n",
    "                tabela = roda_arvore_de_decisao(max_depth, min_samples_leaf, min_samples_split)\n",
    "                resultados.append(tabela)\n",
    "    resultados = pd.DataFrame(resultados, columns = [\"max_depth\", \"min_samples_leaf\", \"min_samples_split\", \"train\",\"test\", \"fit_time\", \"score_time\"])\n",
    "    return resultados\n",
    "\n",
    "resultados = busca()\n",
    "resultados.head()"
   ]
  },
  {
   "cell_type": "code",
   "execution_count": 29,
   "metadata": {
    "colab": {},
    "colab_type": "code",
    "id": "vUmCKerTkqdS"
   },
   "outputs": [],
   "source": [
    "corr = resultados.corr()"
   ]
  },
  {
   "cell_type": "code",
   "execution_count": 30,
   "metadata": {
    "colab": {
     "base_uri": "https://localhost:8080/",
     "height": 654
    },
    "colab_type": "code",
    "id": "a7d6zbMglbBJ",
    "outputId": "63e661b9-79da-4a7f-f13f-b3b2a8d110ee"
   },
   "outputs": [
    {
     "name": "stderr",
     "output_type": "stream",
     "text": [
      "C:\\Users\\Micaeld\\AppData\\Local\\Temp\\ipykernel_5996\\1569857682.py:4: DeprecationWarning: `np.bool` is a deprecated alias for the builtin `bool`. To silence this warning, use `bool` by itself. Doing this will not modify any behavior and is safe. If you specifically wanted the numpy scalar type, use `np.bool_` here.\n",
      "Deprecated in NumPy 1.20; for more details and guidance: https://numpy.org/devdocs/release/1.20.0-notes.html#deprecations\n",
      "  mask = np.zeros_like(corr, dtype=np.bool)\n"
     ]
    },
    {
     "data": {
      "text/plain": [
       "<AxesSubplot:>"
      ]
     },
     "execution_count": 30,
     "metadata": {},
     "output_type": "execute_result"
    },
    {
     "data": {
      "image/png": "[encoded data removed]",
      "text/plain": [
       "<Figure size 1100x900 with 2 Axes>"
      ]
     },
     "metadata": {},
     "output_type": "display_data"
    }
   ],
   "source": [
    "sns.set(style=\"white\")\n",
    "\n",
    "mask = np.zeros_like(corr, dtype = np.bool)\n",
    "mask[np.triu_indices_from(mask)] = True\n",
    "\n",
    "f, ax = plt.subplots(figsize = (11, 9))\n",
    "\n",
    "cmap = sns.diverging_palette(220, 10, as_cmap = True)\n",
    "\n",
    "sns.heatmap(corr, mask = mask, cmap = cmap, vmax = .3, center = 0,\n",
    "            square = True, linewidths = .5, cbar_kws = {\"shrink\": .5})"
   ]
  },
  {
   "cell_type": "code",
   "execution_count": 31,
   "metadata": {
    "colab": {
     "base_uri": "https://localhost:8080/",
     "height": 195
    },
    "colab_type": "code",
    "id": "YY5vVBEGlctR",
    "outputId": "855cdcbd-8951-4c90-f307-d35fac841790"
   },
   "outputs": [
    {
     "data": {
      "text/html": [
       "<div>\n",
       "<style scoped>\n",
       "    .dataframe tbody tr th:only-of-type {\n",
       "        vertical-align: middle;\n",
       "    }\n",
       "\n",
       "    .dataframe tbody tr th {\n",
       "        vertical-align: top;\n",
       "    }\n",
       "\n",
       "    .dataframe thead th {\n",
       "        text-align: right;\n",
       "    }\n",
       "</style>\n",
       "<table border=\"1\" class=\"dataframe\">\n",
       "  <thead>\n",
       "    <tr style=\"text-align: right;\">\n",
       "      <th></th>\n",
       "      <th>max_depth</th>\n",
       "      <th>min_samples_leaf</th>\n",
       "      <th>min_samples_split</th>\n",
       "      <th>train</th>\n",
       "      <th>test</th>\n",
       "      <th>fit_time</th>\n",
       "      <th>score_time</th>\n",
       "    </tr>\n",
       "  </thead>\n",
       "  <tbody>\n",
       "    <tr>\n",
       "      <th>33</th>\n",
       "      <td>3</td>\n",
       "      <td>32</td>\n",
       "      <td>64</td>\n",
       "      <td>78.752241</td>\n",
       "      <td>78.691727</td>\n",
       "      <td>0.009195</td>\n",
       "      <td>0.001801</td>\n",
       "    </tr>\n",
       "    <tr>\n",
       "      <th>43</th>\n",
       "      <td>3</td>\n",
       "      <td>128</td>\n",
       "      <td>256</td>\n",
       "      <td>78.752241</td>\n",
       "      <td>78.691727</td>\n",
       "      <td>0.009093</td>\n",
       "      <td>0.001700</td>\n",
       "    </tr>\n",
       "    <tr>\n",
       "      <th>47</th>\n",
       "      <td>3</td>\n",
       "      <td>256</td>\n",
       "      <td>256</td>\n",
       "      <td>78.752241</td>\n",
       "      <td>78.691727</td>\n",
       "      <td>0.009592</td>\n",
       "      <td>0.002099</td>\n",
       "    </tr>\n",
       "    <tr>\n",
       "      <th>42</th>\n",
       "      <td>3</td>\n",
       "      <td>128</td>\n",
       "      <td>128</td>\n",
       "      <td>78.752241</td>\n",
       "      <td>78.691727</td>\n",
       "      <td>0.009594</td>\n",
       "      <td>0.002398</td>\n",
       "    </tr>\n",
       "    <tr>\n",
       "      <th>46</th>\n",
       "      <td>3</td>\n",
       "      <td>256</td>\n",
       "      <td>128</td>\n",
       "      <td>78.752241</td>\n",
       "      <td>78.691727</td>\n",
       "      <td>0.011195</td>\n",
       "      <td>0.001898</td>\n",
       "    </tr>\n",
       "  </tbody>\n",
       "</table>\n",
       "</div>"
      ],
      "text/plain": [
       "    max_depth  min_samples_leaf  min_samples_split      train       test  \\\n",
       "33          3                32                 64  78.752241  78.691727   \n",
       "43          3               128                256  78.752241  78.691727   \n",
       "47          3               256                256  78.752241  78.691727   \n",
       "42          3               128                128  78.752241  78.691727   \n",
       "46          3               256                128  78.752241  78.691727   \n",
       "\n",
       "    fit_time  score_time  \n",
       "33  0.009195    0.001801  \n",
       "43  0.009093    0.001700  \n",
       "47  0.009592    0.002099  \n",
       "42  0.009594    0.002398  \n",
       "46  0.011195    0.001898  "
      ]
     },
     "execution_count": 31,
     "metadata": {},
     "output_type": "execute_result"
    }
   ],
   "source": [
    "resultados.sort_values(\"test\", ascending = False).head()"
   ]
  },
  {
   "cell_type": "markdown",
   "metadata": {
    "colab_type": "text",
    "id": "at5ydyJOqQMv"
   },
   "source": [
    "# Explorando espaço de hiper parâmetros com GridSearchCV"
   ]
  },
  {
   "cell_type": "code",
   "execution_count": 32,
   "metadata": {
    "colab": {
     "base_uri": "https://localhost:8080/",
     "height": 983
    },
    "colab_type": "code",
    "id": "Zb69KkJwljln",
    "outputId": "5a5b77b6-5659-43de-d7ef-6c0b1bcbe64f"
   },
   "outputs": [
    {
     "data": {
      "text/html": [
       "<div>\n",
       "<style scoped>\n",
       "    .dataframe tbody tr th:only-of-type {\n",
       "        vertical-align: middle;\n",
       "    }\n",
       "\n",
       "    .dataframe tbody tr th {\n",
       "        vertical-align: top;\n",
       "    }\n",
       "\n",
       "    .dataframe thead th {\n",
       "        text-align: right;\n",
       "    }\n",
       "</style>\n",
       "<table border=\"1\" class=\"dataframe\">\n",
       "  <thead>\n",
       "    <tr style=\"text-align: right;\">\n",
       "      <th></th>\n",
       "      <th>mean_fit_time</th>\n",
       "      <th>std_fit_time</th>\n",
       "      <th>mean_score_time</th>\n",
       "      <th>std_score_time</th>\n",
       "      <th>param_criterion</th>\n",
       "      <th>param_max_depth</th>\n",
       "      <th>param_min_samples_leaf</th>\n",
       "      <th>param_min_samples_split</th>\n",
       "      <th>params</th>\n",
       "      <th>split0_test_score</th>\n",
       "      <th>...</th>\n",
       "      <th>split3_test_score</th>\n",
       "      <th>split4_test_score</th>\n",
       "      <th>split5_test_score</th>\n",
       "      <th>split6_test_score</th>\n",
       "      <th>split7_test_score</th>\n",
       "      <th>split8_test_score</th>\n",
       "      <th>split9_test_score</th>\n",
       "      <th>mean_test_score</th>\n",
       "      <th>std_test_score</th>\n",
       "      <th>rank_test_score</th>\n",
       "    </tr>\n",
       "  </thead>\n",
       "  <tbody>\n",
       "    <tr>\n",
       "      <th>0</th>\n",
       "      <td>0.008592</td>\n",
       "      <td>0.000484</td>\n",
       "      <td>0.001799</td>\n",
       "      <td>0.000398</td>\n",
       "      <td>gini</td>\n",
       "      <td>3</td>\n",
       "      <td>32</td>\n",
       "      <td>32</td>\n",
       "      <td>{'criterion': 'gini', 'max_depth': 3, 'min_sam...</td>\n",
       "      <td>0.782266</td>\n",
       "      <td>...</td>\n",
       "      <td>0.773006</td>\n",
       "      <td>0.786359</td>\n",
       "      <td>0.78125</td>\n",
       "      <td>0.782779</td>\n",
       "      <td>0.788153</td>\n",
       "      <td>0.782347</td>\n",
       "      <td>0.802187</td>\n",
       "      <td>0.786917</td>\n",
       "      <td>0.010101</td>\n",
       "      <td>1</td>\n",
       "    </tr>\n",
       "    <tr>\n",
       "      <th>1</th>\n",
       "      <td>0.009197</td>\n",
       "      <td>0.000396</td>\n",
       "      <td>0.002096</td>\n",
       "      <td>0.000304</td>\n",
       "      <td>gini</td>\n",
       "      <td>3</td>\n",
       "      <td>32</td>\n",
       "      <td>64</td>\n",
       "      <td>{'criterion': 'gini', 'max_depth': 3, 'min_sam...</td>\n",
       "      <td>0.782266</td>\n",
       "      <td>...</td>\n",
       "      <td>0.773006</td>\n",
       "      <td>0.786359</td>\n",
       "      <td>0.78125</td>\n",
       "      <td>0.782779</td>\n",
       "      <td>0.788153</td>\n",
       "      <td>0.782347</td>\n",
       "      <td>0.802187</td>\n",
       "      <td>0.786917</td>\n",
       "      <td>0.010101</td>\n",
       "      <td>1</td>\n",
       "    </tr>\n",
       "    <tr>\n",
       "      <th>2</th>\n",
       "      <td>0.008794</td>\n",
       "      <td>0.000597</td>\n",
       "      <td>0.002101</td>\n",
       "      <td>0.000302</td>\n",
       "      <td>gini</td>\n",
       "      <td>3</td>\n",
       "      <td>32</td>\n",
       "      <td>128</td>\n",
       "      <td>{'criterion': 'gini', 'max_depth': 3, 'min_sam...</td>\n",
       "      <td>0.782266</td>\n",
       "      <td>...</td>\n",
       "      <td>0.773006</td>\n",
       "      <td>0.786359</td>\n",
       "      <td>0.78125</td>\n",
       "      <td>0.782779</td>\n",
       "      <td>0.788153</td>\n",
       "      <td>0.782347</td>\n",
       "      <td>0.802187</td>\n",
       "      <td>0.786917</td>\n",
       "      <td>0.010101</td>\n",
       "      <td>1</td>\n",
       "    </tr>\n",
       "    <tr>\n",
       "      <th>3</th>\n",
       "      <td>0.008298</td>\n",
       "      <td>0.000458</td>\n",
       "      <td>0.001198</td>\n",
       "      <td>0.000403</td>\n",
       "      <td>gini</td>\n",
       "      <td>3</td>\n",
       "      <td>64</td>\n",
       "      <td>32</td>\n",
       "      <td>{'criterion': 'gini', 'max_depth': 3, 'min_sam...</td>\n",
       "      <td>0.782266</td>\n",
       "      <td>...</td>\n",
       "      <td>0.773006</td>\n",
       "      <td>0.786359</td>\n",
       "      <td>0.78125</td>\n",
       "      <td>0.782779</td>\n",
       "      <td>0.788153</td>\n",
       "      <td>0.782347</td>\n",
       "      <td>0.802187</td>\n",
       "      <td>0.786917</td>\n",
       "      <td>0.010101</td>\n",
       "      <td>1</td>\n",
       "    </tr>\n",
       "    <tr>\n",
       "      <th>4</th>\n",
       "      <td>0.007998</td>\n",
       "      <td>0.000447</td>\n",
       "      <td>0.001397</td>\n",
       "      <td>0.000489</td>\n",
       "      <td>gini</td>\n",
       "      <td>3</td>\n",
       "      <td>64</td>\n",
       "      <td>64</td>\n",
       "      <td>{'criterion': 'gini', 'max_depth': 3, 'min_sam...</td>\n",
       "      <td>0.782266</td>\n",
       "      <td>...</td>\n",
       "      <td>0.773006</td>\n",
       "      <td>0.786359</td>\n",
       "      <td>0.78125</td>\n",
       "      <td>0.782779</td>\n",
       "      <td>0.788153</td>\n",
       "      <td>0.782347</td>\n",
       "      <td>0.802187</td>\n",
       "      <td>0.786917</td>\n",
       "      <td>0.010101</td>\n",
       "      <td>1</td>\n",
       "    </tr>\n",
       "  </tbody>\n",
       "</table>\n",
       "<p>5 rows × 22 columns</p>\n",
       "</div>"
      ],
      "text/plain": [
       "   mean_fit_time  std_fit_time  mean_score_time  std_score_time  \\\n",
       "0       0.008592      0.000484         0.001799        0.000398   \n",
       "1       0.009197      0.000396         0.002096        0.000304   \n",
       "2       0.008794      0.000597         0.002101        0.000302   \n",
       "3       0.008298      0.000458         0.001198        0.000403   \n",
       "4       0.007998      0.000447         0.001397        0.000489   \n",
       "\n",
       "  param_criterion param_max_depth param_min_samples_leaf  \\\n",
       "0            gini               3                     32   \n",
       "1            gini               3                     32   \n",
       "2            gini               3                     32   \n",
       "3            gini               3                     64   \n",
       "4            gini               3                     64   \n",
       "\n",
       "  param_min_samples_split                                             params  \\\n",
       "0                      32  {'criterion': 'gini', 'max_depth': 3, 'min_sam...   \n",
       "1                      64  {'criterion': 'gini', 'max_depth': 3, 'min_sam...   \n",
       "2                     128  {'criterion': 'gini', 'max_depth': 3, 'min_sam...   \n",
       "3                      32  {'criterion': 'gini', 'max_depth': 3, 'min_sam...   \n",
       "4                      64  {'criterion': 'gini', 'max_depth': 3, 'min_sam...   \n",
       "\n",
       "   split0_test_score  ...  split3_test_score  split4_test_score  \\\n",
       "0           0.782266  ...           0.773006           0.786359   \n",
       "1           0.782266  ...           0.773006           0.786359   \n",
       "2           0.782266  ...           0.773006           0.786359   \n",
       "3           0.782266  ...           0.773006           0.786359   \n",
       "4           0.782266  ...           0.773006           0.786359   \n",
       "\n",
       "   split5_test_score  split6_test_score  split7_test_score  split8_test_score  \\\n",
       "0            0.78125           0.782779           0.788153           0.782347   \n",
       "1            0.78125           0.782779           0.788153           0.782347   \n",
       "2            0.78125           0.782779           0.788153           0.782347   \n",
       "3            0.78125           0.782779           0.788153           0.782347   \n",
       "4            0.78125           0.782779           0.788153           0.782347   \n",
       "\n",
       "   split9_test_score  mean_test_score  std_test_score  rank_test_score  \n",
       "0           0.802187         0.786917        0.010101                1  \n",
       "1           0.802187         0.786917        0.010101                1  \n",
       "2           0.802187         0.786917        0.010101                1  \n",
       "3           0.802187         0.786917        0.010101                1  \n",
       "4           0.802187         0.786917        0.010101                1  \n",
       "\n",
       "[5 rows x 22 columns]"
      ]
     },
     "execution_count": 32,
     "metadata": {},
     "output_type": "execute_result"
    }
   ],
   "source": [
    "from sklearn.model_selection import GridSearchCV\n",
    "\n",
    "np.random.seed(SEED)\n",
    "\n",
    "espaco_de_parametros = {\n",
    "    \"max_depth\" : [3, 5],\n",
    "    \"min_samples_split\" : [32, 64, 128],\n",
    "    \"min_samples_leaf\" : [32, 64, 128],\n",
    "    \"criterion\" : [\"gini\", \"entropy\"]\n",
    "}\n",
    "\n",
    "busca = GridSearchCV(DecisionTreeClassifier(),\n",
    "                    espaco_de_parametros,\n",
    "                    cv = GroupKFold(n_splits = 10))\n",
    "busca.fit(x_azar, y_azar, groups = dados.modelo)\n",
    "resultados = pd.DataFrame(busca.cv_results_)\n",
    "resultados.head()"
   ]
  },
  {
   "cell_type": "code",
   "execution_count": 33,
   "metadata": {
    "colab": {
     "base_uri": "https://localhost:8080/",
     "height": 50
    },
    "colab_type": "code",
    "id": "xGEqRLcUrMuF",
    "outputId": "ada074b6-eedf-40eb-bc35-9af10deba1ea"
   },
   "outputs": [
    {
     "name": "stdout",
     "output_type": "stream",
     "text": [
      "{'criterion': 'gini', 'max_depth': 3, 'min_samples_leaf': 32, 'min_samples_split': 32}\n",
      "78.69172738774513\n"
     ]
    }
   ],
   "source": [
    "print(busca.best_params_)\n",
    "print(busca.best_score_ * 100)"
   ]
  },
  {
   "cell_type": "code",
   "execution_count": 34,
   "metadata": {
    "colab": {
     "base_uri": "https://localhost:8080/",
     "height": 118
    },
    "colab_type": "code",
    "id": "EcXir723rbI5",
    "outputId": "46abd9f6-d8f6-4883-f730-478f8a116f6f"
   },
   "outputs": [
    {
     "data": {
      "text/plain": [
       "DecisionTreeClassifier(max_depth=3, min_samples_leaf=32, min_samples_split=32)"
      ]
     },
     "execution_count": 34,
     "metadata": {},
     "output_type": "execute_result"
    }
   ],
   "source": [
    "melhor = busca.best_estimator_\n",
    "melhor"
   ]
  },
  {
   "cell_type": "code",
   "execution_count": 35,
   "metadata": {
    "colab": {
     "base_uri": "https://localhost:8080/",
     "height": 34
    },
    "colab_type": "code",
    "id": "fBUiCF3krkZo",
    "outputId": "4c93a18a-4dd2-4e3d-bd5e-a7be0e881f03"
   },
   "outputs": [
    {
     "name": "stdout",
     "output_type": "stream",
     "text": [
      "Accuracy para os dados foi 78.75%\n"
     ]
    }
   ],
   "source": [
    "from sklearn.metrics import accuracy_score\n",
    "\n",
    "# evitar essa abordagem pois estará sendo otimista\n",
    "\n",
    "predicoes = melhor.predict(x_azar)\n",
    "accuracy = accuracy_score(predicoes, y_azar) * 100\n",
    "print(\"Accuracy para os dados foi %.2f%%\" % accuracy)"
   ]
  },
  {
   "cell_type": "code",
   "execution_count": 36,
   "metadata": {
    "colab": {
     "base_uri": "https://localhost:8080/",
     "height": 1980
    },
    "colab_type": "code",
    "id": "cqZznVDKr--h",
    "outputId": "f444dc7b-47ba-493c-deac-a0b618300f3f"
   },
   "outputs": [
    {
     "name": "stderr",
     "output_type": "stream",
     "text": [
      "C:\\Users\\Micaeld\\anaconda3\\lib\\site-packages\\sklearn\\model_selection\\_validation.py:372: FitFailedWarning: \n",
      "10 fits failed out of a total of 10.\n",
      "The score on these train-test partitions for these parameters will be set to nan.\n",
      "If these failures are not expected, you can try to debug them by setting error_score='raise'.\n",
      "\n",
      "Below are more details about the failures:\n",
      "--------------------------------------------------------------------------------\n",
      "10 fits failed with the following error:\n",
      "Traceback (most recent call last):\n",
      "  File \"C:\\Users\\Micaeld\\anaconda3\\lib\\site-packages\\sklearn\\model_selection\\_validation.py\", line 680, in _fit_and_score\n",
      "    estimator.fit(X_train, y_train, **fit_params)\n",
      "  File \"C:\\Users\\Micaeld\\anaconda3\\lib\\site-packages\\sklearn\\model_selection\\_search.py\", line 891, in fit\n",
      "    self._run_search(evaluate_candidates)\n",
      "  File \"C:\\Users\\Micaeld\\anaconda3\\lib\\site-packages\\sklearn\\model_selection\\_search.py\", line 1392, in _run_search\n",
      "    evaluate_candidates(ParameterGrid(self.param_grid))\n",
      "  File \"C:\\Users\\Micaeld\\anaconda3\\lib\\site-packages\\sklearn\\model_selection\\_search.py\", line 850, in evaluate_candidates\n",
      "    for (cand_idx, parameters), (split_idx, (train, test)) in product(\n",
      "  File \"C:\\Users\\Micaeld\\anaconda3\\lib\\site-packages\\sklearn\\model_selection\\_split.py\", line 340, in split\n",
      "    for train, test in super().split(X, y, groups):\n",
      "  File \"C:\\Users\\Micaeld\\anaconda3\\lib\\site-packages\\sklearn\\model_selection\\_split.py\", line 86, in split\n",
      "    for test_index in self._iter_test_masks(X, y, groups):\n",
      "  File \"C:\\Users\\Micaeld\\anaconda3\\lib\\site-packages\\sklearn\\model_selection\\_split.py\", line 98, in _iter_test_masks\n",
      "    for test_index in self._iter_test_indices(X, y, groups):\n",
      "  File \"C:\\Users\\Micaeld\\anaconda3\\lib\\site-packages\\sklearn\\model_selection\\_split.py\", line 510, in _iter_test_indices\n",
      "    raise ValueError(\"The 'groups' parameter should not be None.\")\n",
      "ValueError: The 'groups' parameter should not be None.\n",
      "\n",
      "  warnings.warn(some_fits_failed_message, FitFailedWarning)\n"
     ]
    }
   ],
   "source": [
    "from sklearn.model_selection import cross_val_score\n",
    "\n",
    "scores = cross_val_score(busca, x_azar, y_azar, cv = GroupKFold(n_splits=10), groups = dados.modelo)"
   ]
  },
  {
   "cell_type": "markdown",
   "metadata": {
    "colab_type": "text",
    "id": "E_MEMPRYuWYT"
   },
   "source": [
    "### Infelizmente como o Pandas não suporta nested validation com group k fold não consegui prever o resultado para novos grupos"
   ]
  },
  {
   "cell_type": "code",
   "execution_count": 37,
   "metadata": {
    "colab": {
     "base_uri": "https://localhost:8080/",
     "height": 815
    },
    "colab_type": "code",
    "id": "9aYIMS1At7ZW",
    "outputId": "796c67c2-85f0-43cd-fb4e-439162257201"
   },
   "outputs": [
    {
     "data": {
      "text/html": [
       "<div>\n",
       "<style scoped>\n",
       "    .dataframe tbody tr th:only-of-type {\n",
       "        vertical-align: middle;\n",
       "    }\n",
       "\n",
       "    .dataframe tbody tr th {\n",
       "        vertical-align: top;\n",
       "    }\n",
       "\n",
       "    .dataframe thead th {\n",
       "        text-align: right;\n",
       "    }\n",
       "</style>\n",
       "<table border=\"1\" class=\"dataframe\">\n",
       "  <thead>\n",
       "    <tr style=\"text-align: right;\">\n",
       "      <th></th>\n",
       "      <th>mean_fit_time</th>\n",
       "      <th>std_fit_time</th>\n",
       "      <th>mean_score_time</th>\n",
       "      <th>std_score_time</th>\n",
       "      <th>param_criterion</th>\n",
       "      <th>param_max_depth</th>\n",
       "      <th>param_min_samples_leaf</th>\n",
       "      <th>param_min_samples_split</th>\n",
       "      <th>params</th>\n",
       "      <th>split0_test_score</th>\n",
       "      <th>split1_test_score</th>\n",
       "      <th>split2_test_score</th>\n",
       "      <th>split3_test_score</th>\n",
       "      <th>split4_test_score</th>\n",
       "      <th>mean_test_score</th>\n",
       "      <th>std_test_score</th>\n",
       "      <th>rank_test_score</th>\n",
       "    </tr>\n",
       "  </thead>\n",
       "  <tbody>\n",
       "    <tr>\n",
       "      <th>0</th>\n",
       "      <td>0.008194</td>\n",
       "      <td>0.000400</td>\n",
       "      <td>0.001999</td>\n",
       "      <td>7.294206e-07</td>\n",
       "      <td>gini</td>\n",
       "      <td>3</td>\n",
       "      <td>32</td>\n",
       "      <td>32</td>\n",
       "      <td>{'criterion': 'gini', 'max_depth': 3, 'min_sam...</td>\n",
       "      <td>0.784</td>\n",
       "      <td>0.776</td>\n",
       "      <td>0.8025</td>\n",
       "      <td>0.793</td>\n",
       "      <td>0.7795</td>\n",
       "      <td>0.787</td>\n",
       "      <td>0.009618</td>\n",
       "      <td>1</td>\n",
       "    </tr>\n",
       "    <tr>\n",
       "      <th>1</th>\n",
       "      <td>0.007395</td>\n",
       "      <td>0.000490</td>\n",
       "      <td>0.002000</td>\n",
       "      <td>1.370440e-06</td>\n",
       "      <td>gini</td>\n",
       "      <td>3</td>\n",
       "      <td>32</td>\n",
       "      <td>64</td>\n",
       "      <td>{'criterion': 'gini', 'max_depth': 3, 'min_sam...</td>\n",
       "      <td>0.784</td>\n",
       "      <td>0.776</td>\n",
       "      <td>0.8025</td>\n",
       "      <td>0.793</td>\n",
       "      <td>0.7795</td>\n",
       "      <td>0.787</td>\n",
       "      <td>0.009618</td>\n",
       "      <td>1</td>\n",
       "    </tr>\n",
       "    <tr>\n",
       "      <th>2</th>\n",
       "      <td>0.008195</td>\n",
       "      <td>0.000400</td>\n",
       "      <td>0.001402</td>\n",
       "      <td>4.893124e-04</td>\n",
       "      <td>gini</td>\n",
       "      <td>3</td>\n",
       "      <td>32</td>\n",
       "      <td>128</td>\n",
       "      <td>{'criterion': 'gini', 'max_depth': 3, 'min_sam...</td>\n",
       "      <td>0.784</td>\n",
       "      <td>0.776</td>\n",
       "      <td>0.8025</td>\n",
       "      <td>0.793</td>\n",
       "      <td>0.7795</td>\n",
       "      <td>0.787</td>\n",
       "      <td>0.009618</td>\n",
       "      <td>1</td>\n",
       "    </tr>\n",
       "    <tr>\n",
       "      <th>3</th>\n",
       "      <td>0.007388</td>\n",
       "      <td>0.000487</td>\n",
       "      <td>0.001604</td>\n",
       "      <td>4.910094e-04</td>\n",
       "      <td>gini</td>\n",
       "      <td>3</td>\n",
       "      <td>64</td>\n",
       "      <td>32</td>\n",
       "      <td>{'criterion': 'gini', 'max_depth': 3, 'min_sam...</td>\n",
       "      <td>0.784</td>\n",
       "      <td>0.776</td>\n",
       "      <td>0.8025</td>\n",
       "      <td>0.793</td>\n",
       "      <td>0.7795</td>\n",
       "      <td>0.787</td>\n",
       "      <td>0.009618</td>\n",
       "      <td>1</td>\n",
       "    </tr>\n",
       "    <tr>\n",
       "      <th>4</th>\n",
       "      <td>0.007398</td>\n",
       "      <td>0.000483</td>\n",
       "      <td>0.001596</td>\n",
       "      <td>4.866964e-04</td>\n",
       "      <td>gini</td>\n",
       "      <td>3</td>\n",
       "      <td>64</td>\n",
       "      <td>64</td>\n",
       "      <td>{'criterion': 'gini', 'max_depth': 3, 'min_sam...</td>\n",
       "      <td>0.784</td>\n",
       "      <td>0.776</td>\n",
       "      <td>0.8025</td>\n",
       "      <td>0.793</td>\n",
       "      <td>0.7795</td>\n",
       "      <td>0.787</td>\n",
       "      <td>0.009618</td>\n",
       "      <td>1</td>\n",
       "    </tr>\n",
       "  </tbody>\n",
       "</table>\n",
       "</div>"
      ],
      "text/plain": [
       "   mean_fit_time  std_fit_time  mean_score_time  std_score_time  \\\n",
       "0       0.008194      0.000400         0.001999    7.294206e-07   \n",
       "1       0.007395      0.000490         0.002000    1.370440e-06   \n",
       "2       0.008195      0.000400         0.001402    4.893124e-04   \n",
       "3       0.007388      0.000487         0.001604    4.910094e-04   \n",
       "4       0.007398      0.000483         0.001596    4.866964e-04   \n",
       "\n",
       "  param_criterion param_max_depth param_min_samples_leaf  \\\n",
       "0            gini               3                     32   \n",
       "1            gini               3                     32   \n",
       "2            gini               3                     32   \n",
       "3            gini               3                     64   \n",
       "4            gini               3                     64   \n",
       "\n",
       "  param_min_samples_split                                             params  \\\n",
       "0                      32  {'criterion': 'gini', 'max_depth': 3, 'min_sam...   \n",
       "1                      64  {'criterion': 'gini', 'max_depth': 3, 'min_sam...   \n",
       "2                     128  {'criterion': 'gini', 'max_depth': 3, 'min_sam...   \n",
       "3                      32  {'criterion': 'gini', 'max_depth': 3, 'min_sam...   \n",
       "4                      64  {'criterion': 'gini', 'max_depth': 3, 'min_sam...   \n",
       "\n",
       "   split0_test_score  split1_test_score  split2_test_score  split3_test_score  \\\n",
       "0              0.784              0.776             0.8025              0.793   \n",
       "1              0.784              0.776             0.8025              0.793   \n",
       "2              0.784              0.776             0.8025              0.793   \n",
       "3              0.784              0.776             0.8025              0.793   \n",
       "4              0.784              0.776             0.8025              0.793   \n",
       "\n",
       "   split4_test_score  mean_test_score  std_test_score  rank_test_score  \n",
       "0             0.7795            0.787        0.009618                1  \n",
       "1             0.7795            0.787        0.009618                1  \n",
       "2             0.7795            0.787        0.009618                1  \n",
       "3             0.7795            0.787        0.009618                1  \n",
       "4             0.7795            0.787        0.009618                1  "
      ]
     },
     "execution_count": 37,
     "metadata": {},
     "output_type": "execute_result"
    }
   ],
   "source": [
    "from sklearn.model_selection import GridSearchCV, KFold\n",
    "\n",
    "np.random.seed(SEED)\n",
    "\n",
    "espaco_de_parametros = {\n",
    "    \"max_depth\" : [3, 5],\n",
    "    \"min_samples_split\" : [32, 64, 128],\n",
    "    \"min_samples_leaf\" : [32, 64, 128],\n",
    "    \"criterion\" : [\"gini\", \"entropy\"]\n",
    "}\n",
    "\n",
    "busca = GridSearchCV(DecisionTreeClassifier(),\n",
    "                    espaco_de_parametros,\n",
    "                    cv = KFold(n_splits = 5, shuffle = True))\n",
    "busca.fit(x_azar, y_azar)\n",
    "resultados = pd.DataFrame(busca.cv_results_)\n",
    "resultados.head()"
   ]
  },
  {
   "cell_type": "code",
   "execution_count": 38,
   "metadata": {
    "colab": {
     "base_uri": "https://localhost:8080/",
     "height": 34
    },
    "colab_type": "code",
    "id": "IHOi-91kulqx",
    "outputId": "8924bf96-8bc2-413b-ae11-2ce40000f072"
   },
   "outputs": [
    {
     "data": {
      "text/plain": [
       "array([0.7895, 0.7825, 0.7905, 0.7715, 0.7995])"
      ]
     },
     "execution_count": 38,
     "metadata": {},
     "output_type": "execute_result"
    }
   ],
   "source": [
    "from sklearn.model_selection import cross_val_score\n",
    "\n",
    "scores = cross_val_score(busca, x_azar, y_azar, cv = KFold(n_splits=5, shuffle=True))\n",
    "scores"
   ]
  },
  {
   "cell_type": "code",
   "execution_count": 39,
   "metadata": {
    "colab": {},
    "colab_type": "code",
    "id": "Lc5EU1Uou07O"
   },
   "outputs": [],
   "source": [
    "def imprime_score(scores):\n",
    "    media = scores.mean() * 100\n",
    "    desvio = scores.std() * 100\n",
    "    print(\"Accuracy médio %.2f\" % media)\n",
    "    print(\"Intervalo [%.2f, %.2f]\" % (media - 2 * desvio, media + 2 * desvio))"
   ]
  },
  {
   "cell_type": "code",
   "execution_count": 40,
   "metadata": {
    "colab": {
     "base_uri": "https://localhost:8080/",
     "height": 51
    },
    "colab_type": "code",
    "id": "VDRWxxyevJiz",
    "outputId": "42022718-23a6-428b-a265-18107042a0f1"
   },
   "outputs": [
    {
     "name": "stdout",
     "output_type": "stream",
     "text": [
      "Accuracy médio 78.67\n",
      "Intervalo [76.80, 80.54]\n"
     ]
    }
   ],
   "source": [
    "imprime_score(scores)"
   ]
  },
  {
   "cell_type": "code",
   "execution_count": 41,
   "metadata": {
    "colab": {
     "base_uri": "https://localhost:8080/",
     "height": 119
    },
    "colab_type": "code",
    "id": "7fUVmolpvKco",
    "outputId": "4673d25f-b94a-4ba9-c67d-5cc211717a21"
   },
   "outputs": [
    {
     "name": "stdout",
     "output_type": "stream",
     "text": [
      "DecisionTreeClassifier(max_depth=3, min_samples_leaf=32, min_samples_split=32)\n"
     ]
    }
   ],
   "source": [
    "melhor = busca.best_estimator_\n",
    "print(melhor)"
   ]
  },
  {
   "cell_type": "markdown",
   "metadata": {
    "colab": {},
    "colab_type": "code",
    "id": "JiW754atvZ8N"
   },
   "source": [
    "_"
   ]
  }
 ],
 "metadata": {
  "colab": {
   "collapsed_sections": [],
   "name": "Introdução_a_Machine_Learning_Otimização.ipynb",
   "provenance": [],
   "version": "0.3.2"
  },
  "kernelspec": {
   "display_name": "Python 3 (ipykernel)",
   "language": "python",
   "name": "python3"
  },
  "language_info": {
   "codemirror_mode": {
    "name": "ipython",
    "version": 3
   },
   "file_extension": ".py",
   "mimetype": "text/x-python",
   "name": "python",
   "nbconvert_exporter": "python",
   "pygments_lexer": "ipython3",
   "version": "3.9.13"
  }
 },
 "nbformat": 4,
 "nbformat_minor": 1
}
